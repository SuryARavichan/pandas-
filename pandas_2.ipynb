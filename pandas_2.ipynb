{
  "nbformat": 4,
  "nbformat_minor": 0,
  "metadata": {
    "colab": {
      "name": "pandas 2.ipynb",
      "provenance": [],
      "authorship_tag": "ABX9TyPhPytshsdpjYLTLJ/wlPJf",
      "include_colab_link": true
    },
    "kernelspec": {
      "name": "python3",
      "display_name": "Python 3"
    },
    "language_info": {
      "name": "python"
    }
  },
  "cells": [
    {
      "cell_type": "markdown",
      "metadata": {
        "id": "view-in-github",
        "colab_type": "text"
      },
      "source": [
        "<a href=\"https://colab.research.google.com/github/SuryARavichan/pandas-/blob/main/pandas_2.ipynb\" target=\"_parent\"><img src=\"https://colab.research.google.com/assets/colab-badge.svg\" alt=\"Open In Colab\"/></a>"
      ]
    },
    {
      "cell_type": "code",
      "metadata": {
        "id": "QHyU_JCagtYU"
      },
      "source": [
        "import pandas as pd\n",
        "import numpy as np"
      ],
      "execution_count": 4,
      "outputs": []
    },
    {
      "cell_type": "code",
      "metadata": {
        "id": "JHGO4Hm0hGp4"
      },
      "source": [
        "s = pd.Series([1,2,3,4,5,6,np.nan,8,9,10])\n"
      ],
      "execution_count": 5,
      "outputs": []
    },
    {
      "cell_type": "code",
      "metadata": {
        "colab": {
          "base_uri": "https://localhost:8080/"
        },
        "id": "uOm15ey1i9Sp",
        "outputId": "3446d08b-0238-4504-a2be-d78fa7ae8db8"
      },
      "source": [
        "s"
      ],
      "execution_count": 6,
      "outputs": [
        {
          "output_type": "execute_result",
          "data": {
            "text/plain": [
              "0     1.0\n",
              "1     2.0\n",
              "2     3.0\n",
              "3     4.0\n",
              "4     5.0\n",
              "5     6.0\n",
              "6     NaN\n",
              "7     8.0\n",
              "8     9.0\n",
              "9    10.0\n",
              "dtype: float64"
            ]
          },
          "metadata": {},
          "execution_count": 6
        }
      ]
    },
    {
      "cell_type": "code",
      "metadata": {
        "id": "z-Um4gnhi9yD"
      },
      "source": [
        "d = pd.date_range('20200301', periods=10)\n"
      ],
      "execution_count": 8,
      "outputs": []
    },
    {
      "cell_type": "code",
      "metadata": {
        "colab": {
          "base_uri": "https://localhost:8080/"
        },
        "id": "HPLOKhpxjLWq",
        "outputId": "4d56923f-e394-4f63-fd35-a083750d995e"
      },
      "source": [
        "d"
      ],
      "execution_count": 9,
      "outputs": [
        {
          "output_type": "execute_result",
          "data": {
            "text/plain": [
              "DatetimeIndex(['2020-03-01', '2020-03-02', '2020-03-03', '2020-03-04',\n",
              "               '2020-03-05', '2020-03-06', '2020-03-07', '2020-03-08',\n",
              "               '2020-03-09', '2020-03-10'],\n",
              "              dtype='datetime64[ns]', freq='D')"
            ]
          },
          "metadata": {},
          "execution_count": 9
        }
      ]
    },
    {
      "cell_type": "code",
      "metadata": {
        "id": "UNuh7tbujP3m"
      },
      "source": [
        "df = pd.DataFrame(np.random.randint(4,10), index=d,columns=['a','b','c','d','e'])\n"
      ],
      "execution_count": 11,
      "outputs": []
    },
    {
      "cell_type": "code",
      "metadata": {
        "colab": {
          "base_uri": "https://localhost:8080/",
          "height": 356
        },
        "id": "nLazUBx8jfHT",
        "outputId": "17eecb83-b5c4-4ca5-b1b0-d50ee29fe34b"
      },
      "source": [
        "df"
      ],
      "execution_count": 13,
      "outputs": [
        {
          "output_type": "execute_result",
          "data": {
            "text/html": [
              "<div>\n",
              "<style scoped>\n",
              "    .dataframe tbody tr th:only-of-type {\n",
              "        vertical-align: middle;\n",
              "    }\n",
              "\n",
              "    .dataframe tbody tr th {\n",
              "        vertical-align: top;\n",
              "    }\n",
              "\n",
              "    .dataframe thead th {\n",
              "        text-align: right;\n",
              "    }\n",
              "</style>\n",
              "<table border=\"1\" class=\"dataframe\">\n",
              "  <thead>\n",
              "    <tr style=\"text-align: right;\">\n",
              "      <th></th>\n",
              "      <th>a</th>\n",
              "      <th>b</th>\n",
              "      <th>c</th>\n",
              "      <th>d</th>\n",
              "      <th>e</th>\n",
              "    </tr>\n",
              "  </thead>\n",
              "  <tbody>\n",
              "    <tr>\n",
              "      <th>2020-03-01</th>\n",
              "      <td>7</td>\n",
              "      <td>7</td>\n",
              "      <td>7</td>\n",
              "      <td>7</td>\n",
              "      <td>7</td>\n",
              "    </tr>\n",
              "    <tr>\n",
              "      <th>2020-03-02</th>\n",
              "      <td>7</td>\n",
              "      <td>7</td>\n",
              "      <td>7</td>\n",
              "      <td>7</td>\n",
              "      <td>7</td>\n",
              "    </tr>\n",
              "    <tr>\n",
              "      <th>2020-03-03</th>\n",
              "      <td>7</td>\n",
              "      <td>7</td>\n",
              "      <td>7</td>\n",
              "      <td>7</td>\n",
              "      <td>7</td>\n",
              "    </tr>\n",
              "    <tr>\n",
              "      <th>2020-03-04</th>\n",
              "      <td>7</td>\n",
              "      <td>7</td>\n",
              "      <td>7</td>\n",
              "      <td>7</td>\n",
              "      <td>7</td>\n",
              "    </tr>\n",
              "    <tr>\n",
              "      <th>2020-03-05</th>\n",
              "      <td>7</td>\n",
              "      <td>7</td>\n",
              "      <td>7</td>\n",
              "      <td>7</td>\n",
              "      <td>7</td>\n",
              "    </tr>\n",
              "    <tr>\n",
              "      <th>2020-03-06</th>\n",
              "      <td>7</td>\n",
              "      <td>7</td>\n",
              "      <td>7</td>\n",
              "      <td>7</td>\n",
              "      <td>7</td>\n",
              "    </tr>\n",
              "    <tr>\n",
              "      <th>2020-03-07</th>\n",
              "      <td>7</td>\n",
              "      <td>7</td>\n",
              "      <td>7</td>\n",
              "      <td>7</td>\n",
              "      <td>7</td>\n",
              "    </tr>\n",
              "    <tr>\n",
              "      <th>2020-03-08</th>\n",
              "      <td>7</td>\n",
              "      <td>7</td>\n",
              "      <td>7</td>\n",
              "      <td>7</td>\n",
              "      <td>7</td>\n",
              "    </tr>\n",
              "    <tr>\n",
              "      <th>2020-03-09</th>\n",
              "      <td>7</td>\n",
              "      <td>7</td>\n",
              "      <td>7</td>\n",
              "      <td>7</td>\n",
              "      <td>7</td>\n",
              "    </tr>\n",
              "    <tr>\n",
              "      <th>2020-03-10</th>\n",
              "      <td>7</td>\n",
              "      <td>7</td>\n",
              "      <td>7</td>\n",
              "      <td>7</td>\n",
              "      <td>7</td>\n",
              "    </tr>\n",
              "  </tbody>\n",
              "</table>\n",
              "</div>"
            ],
            "text/plain": [
              "            a  b  c  d  e\n",
              "2020-03-01  7  7  7  7  7\n",
              "2020-03-02  7  7  7  7  7\n",
              "2020-03-03  7  7  7  7  7\n",
              "2020-03-04  7  7  7  7  7\n",
              "2020-03-05  7  7  7  7  7\n",
              "2020-03-06  7  7  7  7  7\n",
              "2020-03-07  7  7  7  7  7\n",
              "2020-03-08  7  7  7  7  7\n",
              "2020-03-09  7  7  7  7  7\n",
              "2020-03-10  7  7  7  7  7"
            ]
          },
          "metadata": {},
          "execution_count": 13
        }
      ]
    },
    {
      "cell_type": "code",
      "metadata": {
        "id": "zbaT3RBQjlFu"
      },
      "source": [
        "df = pd.DataFrame({'a':[1,2,3,4],'b':pd.Timestamp('20200301'),'c':pd.Series(1, index=list(range(4)), dtype='float32'),'d':np.array([5]*4, dtype='int32'),'e':pd.Categorical(['true','False','True','False']),'f':'edurekha'})\n"
      ],
      "execution_count": 14,
      "outputs": []
    },
    {
      "cell_type": "code",
      "metadata": {
        "colab": {
          "base_uri": "https://localhost:8080/",
          "height": 172
        },
        "id": "QFHQ0xDBkVEz",
        "outputId": "f51617d8-be11-4d50-8261-a3cd4cb153e8"
      },
      "source": [
        "df"
      ],
      "execution_count": 15,
      "outputs": [
        {
          "output_type": "execute_result",
          "data": {
            "text/html": [
              "<div>\n",
              "<style scoped>\n",
              "    .dataframe tbody tr th:only-of-type {\n",
              "        vertical-align: middle;\n",
              "    }\n",
              "\n",
              "    .dataframe tbody tr th {\n",
              "        vertical-align: top;\n",
              "    }\n",
              "\n",
              "    .dataframe thead th {\n",
              "        text-align: right;\n",
              "    }\n",
              "</style>\n",
              "<table border=\"1\" class=\"dataframe\">\n",
              "  <thead>\n",
              "    <tr style=\"text-align: right;\">\n",
              "      <th></th>\n",
              "      <th>a</th>\n",
              "      <th>b</th>\n",
              "      <th>c</th>\n",
              "      <th>d</th>\n",
              "      <th>e</th>\n",
              "      <th>f</th>\n",
              "    </tr>\n",
              "  </thead>\n",
              "  <tbody>\n",
              "    <tr>\n",
              "      <th>0</th>\n",
              "      <td>1</td>\n",
              "      <td>2020-03-01</td>\n",
              "      <td>1.0</td>\n",
              "      <td>5</td>\n",
              "      <td>true</td>\n",
              "      <td>edurekha</td>\n",
              "    </tr>\n",
              "    <tr>\n",
              "      <th>1</th>\n",
              "      <td>2</td>\n",
              "      <td>2020-03-01</td>\n",
              "      <td>1.0</td>\n",
              "      <td>5</td>\n",
              "      <td>False</td>\n",
              "      <td>edurekha</td>\n",
              "    </tr>\n",
              "    <tr>\n",
              "      <th>2</th>\n",
              "      <td>3</td>\n",
              "      <td>2020-03-01</td>\n",
              "      <td>1.0</td>\n",
              "      <td>5</td>\n",
              "      <td>True</td>\n",
              "      <td>edurekha</td>\n",
              "    </tr>\n",
              "    <tr>\n",
              "      <th>3</th>\n",
              "      <td>4</td>\n",
              "      <td>2020-03-01</td>\n",
              "      <td>1.0</td>\n",
              "      <td>5</td>\n",
              "      <td>False</td>\n",
              "      <td>edurekha</td>\n",
              "    </tr>\n",
              "  </tbody>\n",
              "</table>\n",
              "</div>"
            ],
            "text/plain": [
              "   a          b    c  d      e         f\n",
              "0  1 2020-03-01  1.0  5   true  edurekha\n",
              "1  2 2020-03-01  1.0  5  False  edurekha\n",
              "2  3 2020-03-01  1.0  5   True  edurekha\n",
              "3  4 2020-03-01  1.0  5  False  edurekha"
            ]
          },
          "metadata": {},
          "execution_count": 15
        }
      ]
    },
    {
      "cell_type": "code",
      "metadata": {
        "colab": {
          "base_uri": "https://localhost:8080/"
        },
        "id": "DDfxjkgikV6c",
        "outputId": "a47a9b0d-77b6-45eb-b145-01ed44123834"
      },
      "source": [
        "df.info()"
      ],
      "execution_count": 16,
      "outputs": [
        {
          "output_type": "stream",
          "name": "stdout",
          "text": [
            "<class 'pandas.core.frame.DataFrame'>\n",
            "Int64Index: 4 entries, 0 to 3\n",
            "Data columns (total 6 columns):\n",
            " #   Column  Non-Null Count  Dtype         \n",
            "---  ------  --------------  -----         \n",
            " 0   a       4 non-null      int64         \n",
            " 1   b       4 non-null      datetime64[ns]\n",
            " 2   c       4 non-null      float32       \n",
            " 3   d       4 non-null      int32         \n",
            " 4   e       4 non-null      category      \n",
            " 5   f       4 non-null      object        \n",
            "dtypes: category(1), datetime64[ns](1), float32(1), int32(1), int64(1), object(1)\n",
            "memory usage: 268.0+ bytes\n"
          ]
        }
      ]
    },
    {
      "cell_type": "code",
      "metadata": {
        "colab": {
          "base_uri": "https://localhost:8080/",
          "height": 172
        },
        "id": "sxF3qoiLkYYC",
        "outputId": "6540b7a1-9f46-4ec4-badf-0be22b684abd"
      },
      "source": [
        "df.head()"
      ],
      "execution_count": 17,
      "outputs": [
        {
          "output_type": "execute_result",
          "data": {
            "text/html": [
              "<div>\n",
              "<style scoped>\n",
              "    .dataframe tbody tr th:only-of-type {\n",
              "        vertical-align: middle;\n",
              "    }\n",
              "\n",
              "    .dataframe tbody tr th {\n",
              "        vertical-align: top;\n",
              "    }\n",
              "\n",
              "    .dataframe thead th {\n",
              "        text-align: right;\n",
              "    }\n",
              "</style>\n",
              "<table border=\"1\" class=\"dataframe\">\n",
              "  <thead>\n",
              "    <tr style=\"text-align: right;\">\n",
              "      <th></th>\n",
              "      <th>a</th>\n",
              "      <th>b</th>\n",
              "      <th>c</th>\n",
              "      <th>d</th>\n",
              "      <th>e</th>\n",
              "      <th>f</th>\n",
              "    </tr>\n",
              "  </thead>\n",
              "  <tbody>\n",
              "    <tr>\n",
              "      <th>0</th>\n",
              "      <td>1</td>\n",
              "      <td>2020-03-01</td>\n",
              "      <td>1.0</td>\n",
              "      <td>5</td>\n",
              "      <td>true</td>\n",
              "      <td>edurekha</td>\n",
              "    </tr>\n",
              "    <tr>\n",
              "      <th>1</th>\n",
              "      <td>2</td>\n",
              "      <td>2020-03-01</td>\n",
              "      <td>1.0</td>\n",
              "      <td>5</td>\n",
              "      <td>False</td>\n",
              "      <td>edurekha</td>\n",
              "    </tr>\n",
              "    <tr>\n",
              "      <th>2</th>\n",
              "      <td>3</td>\n",
              "      <td>2020-03-01</td>\n",
              "      <td>1.0</td>\n",
              "      <td>5</td>\n",
              "      <td>True</td>\n",
              "      <td>edurekha</td>\n",
              "    </tr>\n",
              "    <tr>\n",
              "      <th>3</th>\n",
              "      <td>4</td>\n",
              "      <td>2020-03-01</td>\n",
              "      <td>1.0</td>\n",
              "      <td>5</td>\n",
              "      <td>False</td>\n",
              "      <td>edurekha</td>\n",
              "    </tr>\n",
              "  </tbody>\n",
              "</table>\n",
              "</div>"
            ],
            "text/plain": [
              "   a          b    c  d      e         f\n",
              "0  1 2020-03-01  1.0  5   true  edurekha\n",
              "1  2 2020-03-01  1.0  5  False  edurekha\n",
              "2  3 2020-03-01  1.0  5   True  edurekha\n",
              "3  4 2020-03-01  1.0  5  False  edurekha"
            ]
          },
          "metadata": {},
          "execution_count": 17
        }
      ]
    },
    {
      "cell_type": "code",
      "metadata": {
        "colab": {
          "base_uri": "https://localhost:8080/"
        },
        "id": "hNpgGhxvkai_",
        "outputId": "edad6420-c49e-4601-e201-891110b41fc0"
      },
      "source": [
        "df.dtypes"
      ],
      "execution_count": 18,
      "outputs": [
        {
          "output_type": "execute_result",
          "data": {
            "text/plain": [
              "a             int64\n",
              "b    datetime64[ns]\n",
              "c           float32\n",
              "d             int32\n",
              "e          category\n",
              "f            object\n",
              "dtype: object"
            ]
          },
          "metadata": {},
          "execution_count": 18
        }
      ]
    },
    {
      "cell_type": "code",
      "metadata": {
        "colab": {
          "base_uri": "https://localhost:8080/",
          "height": 172
        },
        "id": "H8wdfa3Nkc2B",
        "outputId": "a8e6207d-f5ab-407f-f5ef-a3ff9cc82321"
      },
      "source": [
        "df.tail()"
      ],
      "execution_count": 19,
      "outputs": [
        {
          "output_type": "execute_result",
          "data": {
            "text/html": [
              "<div>\n",
              "<style scoped>\n",
              "    .dataframe tbody tr th:only-of-type {\n",
              "        vertical-align: middle;\n",
              "    }\n",
              "\n",
              "    .dataframe tbody tr th {\n",
              "        vertical-align: top;\n",
              "    }\n",
              "\n",
              "    .dataframe thead th {\n",
              "        text-align: right;\n",
              "    }\n",
              "</style>\n",
              "<table border=\"1\" class=\"dataframe\">\n",
              "  <thead>\n",
              "    <tr style=\"text-align: right;\">\n",
              "      <th></th>\n",
              "      <th>a</th>\n",
              "      <th>b</th>\n",
              "      <th>c</th>\n",
              "      <th>d</th>\n",
              "      <th>e</th>\n",
              "      <th>f</th>\n",
              "    </tr>\n",
              "  </thead>\n",
              "  <tbody>\n",
              "    <tr>\n",
              "      <th>0</th>\n",
              "      <td>1</td>\n",
              "      <td>2020-03-01</td>\n",
              "      <td>1.0</td>\n",
              "      <td>5</td>\n",
              "      <td>true</td>\n",
              "      <td>edurekha</td>\n",
              "    </tr>\n",
              "    <tr>\n",
              "      <th>1</th>\n",
              "      <td>2</td>\n",
              "      <td>2020-03-01</td>\n",
              "      <td>1.0</td>\n",
              "      <td>5</td>\n",
              "      <td>False</td>\n",
              "      <td>edurekha</td>\n",
              "    </tr>\n",
              "    <tr>\n",
              "      <th>2</th>\n",
              "      <td>3</td>\n",
              "      <td>2020-03-01</td>\n",
              "      <td>1.0</td>\n",
              "      <td>5</td>\n",
              "      <td>True</td>\n",
              "      <td>edurekha</td>\n",
              "    </tr>\n",
              "    <tr>\n",
              "      <th>3</th>\n",
              "      <td>4</td>\n",
              "      <td>2020-03-01</td>\n",
              "      <td>1.0</td>\n",
              "      <td>5</td>\n",
              "      <td>False</td>\n",
              "      <td>edurekha</td>\n",
              "    </tr>\n",
              "  </tbody>\n",
              "</table>\n",
              "</div>"
            ],
            "text/plain": [
              "   a          b    c  d      e         f\n",
              "0  1 2020-03-01  1.0  5   true  edurekha\n",
              "1  2 2020-03-01  1.0  5  False  edurekha\n",
              "2  3 2020-03-01  1.0  5   True  edurekha\n",
              "3  4 2020-03-01  1.0  5  False  edurekha"
            ]
          },
          "metadata": {},
          "execution_count": 19
        }
      ]
    },
    {
      "cell_type": "code",
      "metadata": {
        "colab": {
          "base_uri": "https://localhost:8080/"
        },
        "id": "bcMFsrOlkzGr",
        "outputId": "98b70334-549c-4023-977b-87e39de4535b"
      },
      "source": [
        "df.index"
      ],
      "execution_count": 20,
      "outputs": [
        {
          "output_type": "execute_result",
          "data": {
            "text/plain": [
              "Int64Index([0, 1, 2, 3], dtype='int64')"
            ]
          },
          "metadata": {},
          "execution_count": 20
        }
      ]
    },
    {
      "cell_type": "code",
      "metadata": {
        "colab": {
          "base_uri": "https://localhost:8080/"
        },
        "id": "GoUYRS2mk1xX",
        "outputId": "d8f64b09-7a17-4243-c8ae-04b8848a9b79"
      },
      "source": [
        "df.columns"
      ],
      "execution_count": 21,
      "outputs": [
        {
          "output_type": "execute_result",
          "data": {
            "text/plain": [
              "Index(['a', 'b', 'c', 'd', 'e', 'f'], dtype='object')"
            ]
          },
          "metadata": {},
          "execution_count": 21
        }
      ]
    },
    {
      "cell_type": "code",
      "metadata": {
        "colab": {
          "base_uri": "https://localhost:8080/"
        },
        "id": "-FVTJqsHk3Vy",
        "outputId": "208db943-09ab-4029-a67d-feee4a9e049b"
      },
      "source": [
        "df.to_numpy()"
      ],
      "execution_count": 23,
      "outputs": [
        {
          "output_type": "execute_result",
          "data": {
            "text/plain": [
              "array([[1, Timestamp('2020-03-01 00:00:00'), 1.0, 5, 'true', 'edurekha'],\n",
              "       [2, Timestamp('2020-03-01 00:00:00'), 1.0, 5, 'False', 'edurekha'],\n",
              "       [3, Timestamp('2020-03-01 00:00:00'), 1.0, 5, 'True', 'edurekha'],\n",
              "       [4, Timestamp('2020-03-01 00:00:00'), 1.0, 5, 'False', 'edurekha']],\n",
              "      dtype=object)"
            ]
          },
          "metadata": {},
          "execution_count": 23
        }
      ]
    },
    {
      "cell_type": "code",
      "metadata": {
        "colab": {
          "base_uri": "https://localhost:8080/",
          "height": 294
        },
        "id": "FBctm3Okk8V3",
        "outputId": "d37f02ee-0539-44dc-ac0f-2d25b96d6915"
      },
      "source": [
        "df.describe()"
      ],
      "execution_count": 25,
      "outputs": [
        {
          "output_type": "execute_result",
          "data": {
            "text/html": [
              "<div>\n",
              "<style scoped>\n",
              "    .dataframe tbody tr th:only-of-type {\n",
              "        vertical-align: middle;\n",
              "    }\n",
              "\n",
              "    .dataframe tbody tr th {\n",
              "        vertical-align: top;\n",
              "    }\n",
              "\n",
              "    .dataframe thead th {\n",
              "        text-align: right;\n",
              "    }\n",
              "</style>\n",
              "<table border=\"1\" class=\"dataframe\">\n",
              "  <thead>\n",
              "    <tr style=\"text-align: right;\">\n",
              "      <th></th>\n",
              "      <th>a</th>\n",
              "      <th>c</th>\n",
              "      <th>d</th>\n",
              "    </tr>\n",
              "  </thead>\n",
              "  <tbody>\n",
              "    <tr>\n",
              "      <th>count</th>\n",
              "      <td>4.000000</td>\n",
              "      <td>4.0</td>\n",
              "      <td>4.0</td>\n",
              "    </tr>\n",
              "    <tr>\n",
              "      <th>mean</th>\n",
              "      <td>2.500000</td>\n",
              "      <td>1.0</td>\n",
              "      <td>5.0</td>\n",
              "    </tr>\n",
              "    <tr>\n",
              "      <th>std</th>\n",
              "      <td>1.290994</td>\n",
              "      <td>0.0</td>\n",
              "      <td>0.0</td>\n",
              "    </tr>\n",
              "    <tr>\n",
              "      <th>min</th>\n",
              "      <td>1.000000</td>\n",
              "      <td>1.0</td>\n",
              "      <td>5.0</td>\n",
              "    </tr>\n",
              "    <tr>\n",
              "      <th>25%</th>\n",
              "      <td>1.750000</td>\n",
              "      <td>1.0</td>\n",
              "      <td>5.0</td>\n",
              "    </tr>\n",
              "    <tr>\n",
              "      <th>50%</th>\n",
              "      <td>2.500000</td>\n",
              "      <td>1.0</td>\n",
              "      <td>5.0</td>\n",
              "    </tr>\n",
              "    <tr>\n",
              "      <th>75%</th>\n",
              "      <td>3.250000</td>\n",
              "      <td>1.0</td>\n",
              "      <td>5.0</td>\n",
              "    </tr>\n",
              "    <tr>\n",
              "      <th>max</th>\n",
              "      <td>4.000000</td>\n",
              "      <td>1.0</td>\n",
              "      <td>5.0</td>\n",
              "    </tr>\n",
              "  </tbody>\n",
              "</table>\n",
              "</div>"
            ],
            "text/plain": [
              "              a    c    d\n",
              "count  4.000000  4.0  4.0\n",
              "mean   2.500000  1.0  5.0\n",
              "std    1.290994  0.0  0.0\n",
              "min    1.000000  1.0  5.0\n",
              "25%    1.750000  1.0  5.0\n",
              "50%    2.500000  1.0  5.0\n",
              "75%    3.250000  1.0  5.0\n",
              "max    4.000000  1.0  5.0"
            ]
          },
          "metadata": {},
          "execution_count": 25
        }
      ]
    },
    {
      "cell_type": "code",
      "metadata": {
        "colab": {
          "base_uri": "https://localhost:8080/",
          "height": 172
        },
        "id": "y9I6xsWIlCmJ",
        "outputId": "90f3b010-2207-4f30-b464-42d5a34f11c5"
      },
      "source": [
        "df.sort_index(axis=1, ascending=True)"
      ],
      "execution_count": 26,
      "outputs": [
        {
          "output_type": "execute_result",
          "data": {
            "text/html": [
              "<div>\n",
              "<style scoped>\n",
              "    .dataframe tbody tr th:only-of-type {\n",
              "        vertical-align: middle;\n",
              "    }\n",
              "\n",
              "    .dataframe tbody tr th {\n",
              "        vertical-align: top;\n",
              "    }\n",
              "\n",
              "    .dataframe thead th {\n",
              "        text-align: right;\n",
              "    }\n",
              "</style>\n",
              "<table border=\"1\" class=\"dataframe\">\n",
              "  <thead>\n",
              "    <tr style=\"text-align: right;\">\n",
              "      <th></th>\n",
              "      <th>a</th>\n",
              "      <th>b</th>\n",
              "      <th>c</th>\n",
              "      <th>d</th>\n",
              "      <th>e</th>\n",
              "      <th>f</th>\n",
              "    </tr>\n",
              "  </thead>\n",
              "  <tbody>\n",
              "    <tr>\n",
              "      <th>0</th>\n",
              "      <td>1</td>\n",
              "      <td>2020-03-01</td>\n",
              "      <td>1.0</td>\n",
              "      <td>5</td>\n",
              "      <td>true</td>\n",
              "      <td>edurekha</td>\n",
              "    </tr>\n",
              "    <tr>\n",
              "      <th>1</th>\n",
              "      <td>2</td>\n",
              "      <td>2020-03-01</td>\n",
              "      <td>1.0</td>\n",
              "      <td>5</td>\n",
              "      <td>False</td>\n",
              "      <td>edurekha</td>\n",
              "    </tr>\n",
              "    <tr>\n",
              "      <th>2</th>\n",
              "      <td>3</td>\n",
              "      <td>2020-03-01</td>\n",
              "      <td>1.0</td>\n",
              "      <td>5</td>\n",
              "      <td>True</td>\n",
              "      <td>edurekha</td>\n",
              "    </tr>\n",
              "    <tr>\n",
              "      <th>3</th>\n",
              "      <td>4</td>\n",
              "      <td>2020-03-01</td>\n",
              "      <td>1.0</td>\n",
              "      <td>5</td>\n",
              "      <td>False</td>\n",
              "      <td>edurekha</td>\n",
              "    </tr>\n",
              "  </tbody>\n",
              "</table>\n",
              "</div>"
            ],
            "text/plain": [
              "   a          b    c  d      e         f\n",
              "0  1 2020-03-01  1.0  5   true  edurekha\n",
              "1  2 2020-03-01  1.0  5  False  edurekha\n",
              "2  3 2020-03-01  1.0  5   True  edurekha\n",
              "3  4 2020-03-01  1.0  5  False  edurekha"
            ]
          },
          "metadata": {},
          "execution_count": 26
        }
      ]
    },
    {
      "cell_type": "code",
      "metadata": {
        "colab": {
          "base_uri": "https://localhost:8080/",
          "height": 172
        },
        "id": "_6uB32ablOyZ",
        "outputId": "5cb6f09f-7f12-4e1f-87bc-e4e7231745af"
      },
      "source": [
        "df.sort_values(by='c')"
      ],
      "execution_count": 28,
      "outputs": [
        {
          "output_type": "execute_result",
          "data": {
            "text/html": [
              "<div>\n",
              "<style scoped>\n",
              "    .dataframe tbody tr th:only-of-type {\n",
              "        vertical-align: middle;\n",
              "    }\n",
              "\n",
              "    .dataframe tbody tr th {\n",
              "        vertical-align: top;\n",
              "    }\n",
              "\n",
              "    .dataframe thead th {\n",
              "        text-align: right;\n",
              "    }\n",
              "</style>\n",
              "<table border=\"1\" class=\"dataframe\">\n",
              "  <thead>\n",
              "    <tr style=\"text-align: right;\">\n",
              "      <th></th>\n",
              "      <th>a</th>\n",
              "      <th>b</th>\n",
              "      <th>c</th>\n",
              "      <th>d</th>\n",
              "      <th>e</th>\n",
              "      <th>f</th>\n",
              "    </tr>\n",
              "  </thead>\n",
              "  <tbody>\n",
              "    <tr>\n",
              "      <th>0</th>\n",
              "      <td>1</td>\n",
              "      <td>2020-03-01</td>\n",
              "      <td>1.0</td>\n",
              "      <td>5</td>\n",
              "      <td>true</td>\n",
              "      <td>edurekha</td>\n",
              "    </tr>\n",
              "    <tr>\n",
              "      <th>1</th>\n",
              "      <td>2</td>\n",
              "      <td>2020-03-01</td>\n",
              "      <td>1.0</td>\n",
              "      <td>5</td>\n",
              "      <td>False</td>\n",
              "      <td>edurekha</td>\n",
              "    </tr>\n",
              "    <tr>\n",
              "      <th>2</th>\n",
              "      <td>3</td>\n",
              "      <td>2020-03-01</td>\n",
              "      <td>1.0</td>\n",
              "      <td>5</td>\n",
              "      <td>True</td>\n",
              "      <td>edurekha</td>\n",
              "    </tr>\n",
              "    <tr>\n",
              "      <th>3</th>\n",
              "      <td>4</td>\n",
              "      <td>2020-03-01</td>\n",
              "      <td>1.0</td>\n",
              "      <td>5</td>\n",
              "      <td>False</td>\n",
              "      <td>edurekha</td>\n",
              "    </tr>\n",
              "  </tbody>\n",
              "</table>\n",
              "</div>"
            ],
            "text/plain": [
              "   a          b    c  d      e         f\n",
              "0  1 2020-03-01  1.0  5   true  edurekha\n",
              "1  2 2020-03-01  1.0  5  False  edurekha\n",
              "2  3 2020-03-01  1.0  5   True  edurekha\n",
              "3  4 2020-03-01  1.0  5  False  edurekha"
            ]
          },
          "metadata": {},
          "execution_count": 28
        }
      ]
    },
    {
      "cell_type": "code",
      "metadata": {
        "colab": {
          "base_uri": "https://localhost:8080/"
        },
        "id": "CNJPnVYMlZlG",
        "outputId": "ab60034f-4275-4b48-8605-77a297de685c"
      },
      "source": [
        "df['a']"
      ],
      "execution_count": 29,
      "outputs": [
        {
          "output_type": "execute_result",
          "data": {
            "text/plain": [
              "0    1\n",
              "1    2\n",
              "2    3\n",
              "3    4\n",
              "Name: a, dtype: int64"
            ]
          },
          "metadata": {},
          "execution_count": 29
        }
      ]
    },
    {
      "cell_type": "code",
      "metadata": {
        "colab": {
          "base_uri": "https://localhost:8080/"
        },
        "id": "t3JpXQlFlk8P",
        "outputId": "83a0dfd1-f5c7-41d2-ce06-8964dcd887bf"
      },
      "source": [
        "df['b']"
      ],
      "execution_count": 30,
      "outputs": [
        {
          "output_type": "execute_result",
          "data": {
            "text/plain": [
              "0   2020-03-01\n",
              "1   2020-03-01\n",
              "2   2020-03-01\n",
              "3   2020-03-01\n",
              "Name: b, dtype: datetime64[ns]"
            ]
          },
          "metadata": {},
          "execution_count": 30
        }
      ]
    },
    {
      "cell_type": "code",
      "metadata": {
        "colab": {
          "base_uri": "https://localhost:8080/",
          "height": 141
        },
        "id": "kXDj-u8llndA",
        "outputId": "b3b12c1c-2aa1-4bb7-d568-b97d385a2239"
      },
      "source": [
        "df[0:3]"
      ],
      "execution_count": 31,
      "outputs": [
        {
          "output_type": "execute_result",
          "data": {
            "text/html": [
              "<div>\n",
              "<style scoped>\n",
              "    .dataframe tbody tr th:only-of-type {\n",
              "        vertical-align: middle;\n",
              "    }\n",
              "\n",
              "    .dataframe tbody tr th {\n",
              "        vertical-align: top;\n",
              "    }\n",
              "\n",
              "    .dataframe thead th {\n",
              "        text-align: right;\n",
              "    }\n",
              "</style>\n",
              "<table border=\"1\" class=\"dataframe\">\n",
              "  <thead>\n",
              "    <tr style=\"text-align: right;\">\n",
              "      <th></th>\n",
              "      <th>a</th>\n",
              "      <th>b</th>\n",
              "      <th>c</th>\n",
              "      <th>d</th>\n",
              "      <th>e</th>\n",
              "      <th>f</th>\n",
              "    </tr>\n",
              "  </thead>\n",
              "  <tbody>\n",
              "    <tr>\n",
              "      <th>0</th>\n",
              "      <td>1</td>\n",
              "      <td>2020-03-01</td>\n",
              "      <td>1.0</td>\n",
              "      <td>5</td>\n",
              "      <td>true</td>\n",
              "      <td>edurekha</td>\n",
              "    </tr>\n",
              "    <tr>\n",
              "      <th>1</th>\n",
              "      <td>2</td>\n",
              "      <td>2020-03-01</td>\n",
              "      <td>1.0</td>\n",
              "      <td>5</td>\n",
              "      <td>False</td>\n",
              "      <td>edurekha</td>\n",
              "    </tr>\n",
              "    <tr>\n",
              "      <th>2</th>\n",
              "      <td>3</td>\n",
              "      <td>2020-03-01</td>\n",
              "      <td>1.0</td>\n",
              "      <td>5</td>\n",
              "      <td>True</td>\n",
              "      <td>edurekha</td>\n",
              "    </tr>\n",
              "  </tbody>\n",
              "</table>\n",
              "</div>"
            ],
            "text/plain": [
              "   a          b    c  d      e         f\n",
              "0  1 2020-03-01  1.0  5   true  edurekha\n",
              "1  2 2020-03-01  1.0  5  False  edurekha\n",
              "2  3 2020-03-01  1.0  5   True  edurekha"
            ]
          },
          "metadata": {},
          "execution_count": 31
        }
      ]
    },
    {
      "cell_type": "code",
      "metadata": {
        "colab": {
          "base_uri": "https://localhost:8080/",
          "height": 172
        },
        "id": "cKgmxFR1lrVU",
        "outputId": "39420788-e200-41c0-8acb-d1eb96fa4502"
      },
      "source": [
        "df[0:6]\n"
      ],
      "execution_count": 32,
      "outputs": [
        {
          "output_type": "execute_result",
          "data": {
            "text/html": [
              "<div>\n",
              "<style scoped>\n",
              "    .dataframe tbody tr th:only-of-type {\n",
              "        vertical-align: middle;\n",
              "    }\n",
              "\n",
              "    .dataframe tbody tr th {\n",
              "        vertical-align: top;\n",
              "    }\n",
              "\n",
              "    .dataframe thead th {\n",
              "        text-align: right;\n",
              "    }\n",
              "</style>\n",
              "<table border=\"1\" class=\"dataframe\">\n",
              "  <thead>\n",
              "    <tr style=\"text-align: right;\">\n",
              "      <th></th>\n",
              "      <th>a</th>\n",
              "      <th>b</th>\n",
              "      <th>c</th>\n",
              "      <th>d</th>\n",
              "      <th>e</th>\n",
              "      <th>f</th>\n",
              "    </tr>\n",
              "  </thead>\n",
              "  <tbody>\n",
              "    <tr>\n",
              "      <th>0</th>\n",
              "      <td>1</td>\n",
              "      <td>2020-03-01</td>\n",
              "      <td>1.0</td>\n",
              "      <td>5</td>\n",
              "      <td>true</td>\n",
              "      <td>edurekha</td>\n",
              "    </tr>\n",
              "    <tr>\n",
              "      <th>1</th>\n",
              "      <td>2</td>\n",
              "      <td>2020-03-01</td>\n",
              "      <td>1.0</td>\n",
              "      <td>5</td>\n",
              "      <td>False</td>\n",
              "      <td>edurekha</td>\n",
              "    </tr>\n",
              "    <tr>\n",
              "      <th>2</th>\n",
              "      <td>3</td>\n",
              "      <td>2020-03-01</td>\n",
              "      <td>1.0</td>\n",
              "      <td>5</td>\n",
              "      <td>True</td>\n",
              "      <td>edurekha</td>\n",
              "    </tr>\n",
              "    <tr>\n",
              "      <th>3</th>\n",
              "      <td>4</td>\n",
              "      <td>2020-03-01</td>\n",
              "      <td>1.0</td>\n",
              "      <td>5</td>\n",
              "      <td>False</td>\n",
              "      <td>edurekha</td>\n",
              "    </tr>\n",
              "  </tbody>\n",
              "</table>\n",
              "</div>"
            ],
            "text/plain": [
              "   a          b    c  d      e         f\n",
              "0  1 2020-03-01  1.0  5   true  edurekha\n",
              "1  2 2020-03-01  1.0  5  False  edurekha\n",
              "2  3 2020-03-01  1.0  5   True  edurekha\n",
              "3  4 2020-03-01  1.0  5  False  edurekha"
            ]
          },
          "metadata": {},
          "execution_count": 32
        }
      ]
    },
    {
      "cell_type": "code",
      "metadata": {
        "colab": {
          "base_uri": "https://localhost:8080/",
          "height": 172
        },
        "id": "SvVNoc_8lwut",
        "outputId": "5a157549-aaf3-411c-96b5-8632ab6a6623"
      },
      "source": [
        "df.loc[:,['a','c','b']]\n",
        "\n"
      ],
      "execution_count": 38,
      "outputs": [
        {
          "output_type": "execute_result",
          "data": {
            "text/html": [
              "<div>\n",
              "<style scoped>\n",
              "    .dataframe tbody tr th:only-of-type {\n",
              "        vertical-align: middle;\n",
              "    }\n",
              "\n",
              "    .dataframe tbody tr th {\n",
              "        vertical-align: top;\n",
              "    }\n",
              "\n",
              "    .dataframe thead th {\n",
              "        text-align: right;\n",
              "    }\n",
              "</style>\n",
              "<table border=\"1\" class=\"dataframe\">\n",
              "  <thead>\n",
              "    <tr style=\"text-align: right;\">\n",
              "      <th></th>\n",
              "      <th>a</th>\n",
              "      <th>c</th>\n",
              "      <th>b</th>\n",
              "    </tr>\n",
              "  </thead>\n",
              "  <tbody>\n",
              "    <tr>\n",
              "      <th>0</th>\n",
              "      <td>1</td>\n",
              "      <td>1.0</td>\n",
              "      <td>2020-03-01</td>\n",
              "    </tr>\n",
              "    <tr>\n",
              "      <th>1</th>\n",
              "      <td>2</td>\n",
              "      <td>1.0</td>\n",
              "      <td>2020-03-01</td>\n",
              "    </tr>\n",
              "    <tr>\n",
              "      <th>2</th>\n",
              "      <td>3</td>\n",
              "      <td>1.0</td>\n",
              "      <td>2020-03-01</td>\n",
              "    </tr>\n",
              "    <tr>\n",
              "      <th>3</th>\n",
              "      <td>4</td>\n",
              "      <td>1.0</td>\n",
              "      <td>2020-03-01</td>\n",
              "    </tr>\n",
              "  </tbody>\n",
              "</table>\n",
              "</div>"
            ],
            "text/plain": [
              "   a    c          b\n",
              "0  1  1.0 2020-03-01\n",
              "1  2  1.0 2020-03-01\n",
              "2  3  1.0 2020-03-01\n",
              "3  4  1.0 2020-03-01"
            ]
          },
          "metadata": {},
          "execution_count": 38
        }
      ]
    },
    {
      "cell_type": "code",
      "metadata": {
        "colab": {
          "base_uri": "https://localhost:8080/",
          "height": 79
        },
        "id": "5wNOi8OCl4Dv",
        "outputId": "2c7cb2ce-fc7c-412e-ba4a-11fc35b3630a"
      },
      "source": [
        "df.iloc[3:5, 0:2]"
      ],
      "execution_count": 41,
      "outputs": [
        {
          "output_type": "execute_result",
          "data": {
            "text/html": [
              "<div>\n",
              "<style scoped>\n",
              "    .dataframe tbody tr th:only-of-type {\n",
              "        vertical-align: middle;\n",
              "    }\n",
              "\n",
              "    .dataframe tbody tr th {\n",
              "        vertical-align: top;\n",
              "    }\n",
              "\n",
              "    .dataframe thead th {\n",
              "        text-align: right;\n",
              "    }\n",
              "</style>\n",
              "<table border=\"1\" class=\"dataframe\">\n",
              "  <thead>\n",
              "    <tr style=\"text-align: right;\">\n",
              "      <th></th>\n",
              "      <th>a</th>\n",
              "      <th>b</th>\n",
              "    </tr>\n",
              "  </thead>\n",
              "  <tbody>\n",
              "    <tr>\n",
              "      <th>3</th>\n",
              "      <td>4</td>\n",
              "      <td>2020-03-01</td>\n",
              "    </tr>\n",
              "  </tbody>\n",
              "</table>\n",
              "</div>"
            ],
            "text/plain": [
              "   a          b\n",
              "3  4 2020-03-01"
            ]
          },
          "metadata": {},
          "execution_count": 41
        }
      ]
    },
    {
      "cell_type": "code",
      "metadata": {
        "colab": {
          "base_uri": "https://localhost:8080/",
          "height": 172
        },
        "id": "a0v33Fq0mgzk",
        "outputId": "84773c89-80d5-450d-b94c-f2f39ba94c58"
      },
      "source": [
        "df[df['a'] > 0]"
      ],
      "execution_count": 42,
      "outputs": [
        {
          "output_type": "execute_result",
          "data": {
            "text/html": [
              "<div>\n",
              "<style scoped>\n",
              "    .dataframe tbody tr th:only-of-type {\n",
              "        vertical-align: middle;\n",
              "    }\n",
              "\n",
              "    .dataframe tbody tr th {\n",
              "        vertical-align: top;\n",
              "    }\n",
              "\n",
              "    .dataframe thead th {\n",
              "        text-align: right;\n",
              "    }\n",
              "</style>\n",
              "<table border=\"1\" class=\"dataframe\">\n",
              "  <thead>\n",
              "    <tr style=\"text-align: right;\">\n",
              "      <th></th>\n",
              "      <th>a</th>\n",
              "      <th>b</th>\n",
              "      <th>c</th>\n",
              "      <th>d</th>\n",
              "      <th>e</th>\n",
              "      <th>f</th>\n",
              "    </tr>\n",
              "  </thead>\n",
              "  <tbody>\n",
              "    <tr>\n",
              "      <th>0</th>\n",
              "      <td>1</td>\n",
              "      <td>2020-03-01</td>\n",
              "      <td>1.0</td>\n",
              "      <td>5</td>\n",
              "      <td>true</td>\n",
              "      <td>edurekha</td>\n",
              "    </tr>\n",
              "    <tr>\n",
              "      <th>1</th>\n",
              "      <td>2</td>\n",
              "      <td>2020-03-01</td>\n",
              "      <td>1.0</td>\n",
              "      <td>5</td>\n",
              "      <td>False</td>\n",
              "      <td>edurekha</td>\n",
              "    </tr>\n",
              "    <tr>\n",
              "      <th>2</th>\n",
              "      <td>3</td>\n",
              "      <td>2020-03-01</td>\n",
              "      <td>1.0</td>\n",
              "      <td>5</td>\n",
              "      <td>True</td>\n",
              "      <td>edurekha</td>\n",
              "    </tr>\n",
              "    <tr>\n",
              "      <th>3</th>\n",
              "      <td>4</td>\n",
              "      <td>2020-03-01</td>\n",
              "      <td>1.0</td>\n",
              "      <td>5</td>\n",
              "      <td>False</td>\n",
              "      <td>edurekha</td>\n",
              "    </tr>\n",
              "  </tbody>\n",
              "</table>\n",
              "</div>"
            ],
            "text/plain": [
              "   a          b    c  d      e         f\n",
              "0  1 2020-03-01  1.0  5   true  edurekha\n",
              "1  2 2020-03-01  1.0  5  False  edurekha\n",
              "2  3 2020-03-01  1.0  5   True  edurekha\n",
              "3  4 2020-03-01  1.0  5  False  edurekha"
            ]
          },
          "metadata": {},
          "execution_count": 42
        }
      ]
    },
    {
      "cell_type": "code",
      "metadata": {
        "colab": {
          "base_uri": "https://localhost:8080/",
          "height": 172
        },
        "id": "JSqfTa1nmt1v",
        "outputId": "9e0179d2-69bb-42eb-b009-77e992620f33"
      },
      "source": [
        "df.isnull()"
      ],
      "execution_count": 47,
      "outputs": [
        {
          "output_type": "execute_result",
          "data": {
            "text/html": [
              "<div>\n",
              "<style scoped>\n",
              "    .dataframe tbody tr th:only-of-type {\n",
              "        vertical-align: middle;\n",
              "    }\n",
              "\n",
              "    .dataframe tbody tr th {\n",
              "        vertical-align: top;\n",
              "    }\n",
              "\n",
              "    .dataframe thead th {\n",
              "        text-align: right;\n",
              "    }\n",
              "</style>\n",
              "<table border=\"1\" class=\"dataframe\">\n",
              "  <thead>\n",
              "    <tr style=\"text-align: right;\">\n",
              "      <th></th>\n",
              "      <th>a</th>\n",
              "      <th>b</th>\n",
              "      <th>c</th>\n",
              "      <th>d</th>\n",
              "      <th>e</th>\n",
              "      <th>f</th>\n",
              "    </tr>\n",
              "  </thead>\n",
              "  <tbody>\n",
              "    <tr>\n",
              "      <th>0</th>\n",
              "      <td>False</td>\n",
              "      <td>False</td>\n",
              "      <td>False</td>\n",
              "      <td>False</td>\n",
              "      <td>False</td>\n",
              "      <td>False</td>\n",
              "    </tr>\n",
              "    <tr>\n",
              "      <th>1</th>\n",
              "      <td>False</td>\n",
              "      <td>False</td>\n",
              "      <td>False</td>\n",
              "      <td>False</td>\n",
              "      <td>False</td>\n",
              "      <td>False</td>\n",
              "    </tr>\n",
              "    <tr>\n",
              "      <th>2</th>\n",
              "      <td>False</td>\n",
              "      <td>False</td>\n",
              "      <td>False</td>\n",
              "      <td>False</td>\n",
              "      <td>False</td>\n",
              "      <td>False</td>\n",
              "    </tr>\n",
              "    <tr>\n",
              "      <th>3</th>\n",
              "      <td>False</td>\n",
              "      <td>False</td>\n",
              "      <td>False</td>\n",
              "      <td>False</td>\n",
              "      <td>False</td>\n",
              "      <td>False</td>\n",
              "    </tr>\n",
              "  </tbody>\n",
              "</table>\n",
              "</div>"
            ],
            "text/plain": [
              "       a      b      c      d      e      f\n",
              "0  False  False  False  False  False  False\n",
              "1  False  False  False  False  False  False\n",
              "2  False  False  False  False  False  False\n",
              "3  False  False  False  False  False  False"
            ]
          },
          "metadata": {},
          "execution_count": 47
        }
      ]
    },
    {
      "cell_type": "code",
      "metadata": {
        "colab": {
          "base_uri": "https://localhost:8080/",
          "height": 172
        },
        "id": "TWXBXc0VnRiM",
        "outputId": "f4f44f1d-7a8a-4353-f8d3-7dc5999cd474"
      },
      "source": [
        "df.dropna()"
      ],
      "execution_count": 48,
      "outputs": [
        {
          "output_type": "execute_result",
          "data": {
            "text/html": [
              "<div>\n",
              "<style scoped>\n",
              "    .dataframe tbody tr th:only-of-type {\n",
              "        vertical-align: middle;\n",
              "    }\n",
              "\n",
              "    .dataframe tbody tr th {\n",
              "        vertical-align: top;\n",
              "    }\n",
              "\n",
              "    .dataframe thead th {\n",
              "        text-align: right;\n",
              "    }\n",
              "</style>\n",
              "<table border=\"1\" class=\"dataframe\">\n",
              "  <thead>\n",
              "    <tr style=\"text-align: right;\">\n",
              "      <th></th>\n",
              "      <th>a</th>\n",
              "      <th>b</th>\n",
              "      <th>c</th>\n",
              "      <th>d</th>\n",
              "      <th>e</th>\n",
              "      <th>f</th>\n",
              "    </tr>\n",
              "  </thead>\n",
              "  <tbody>\n",
              "    <tr>\n",
              "      <th>0</th>\n",
              "      <td>1</td>\n",
              "      <td>2020-03-01</td>\n",
              "      <td>1.0</td>\n",
              "      <td>5</td>\n",
              "      <td>true</td>\n",
              "      <td>edurekha</td>\n",
              "    </tr>\n",
              "    <tr>\n",
              "      <th>1</th>\n",
              "      <td>2</td>\n",
              "      <td>2020-03-01</td>\n",
              "      <td>1.0</td>\n",
              "      <td>5</td>\n",
              "      <td>False</td>\n",
              "      <td>edurekha</td>\n",
              "    </tr>\n",
              "    <tr>\n",
              "      <th>2</th>\n",
              "      <td>3</td>\n",
              "      <td>2020-03-01</td>\n",
              "      <td>1.0</td>\n",
              "      <td>5</td>\n",
              "      <td>True</td>\n",
              "      <td>edurekha</td>\n",
              "    </tr>\n",
              "    <tr>\n",
              "      <th>3</th>\n",
              "      <td>4</td>\n",
              "      <td>2020-03-01</td>\n",
              "      <td>1.0</td>\n",
              "      <td>5</td>\n",
              "      <td>False</td>\n",
              "      <td>edurekha</td>\n",
              "    </tr>\n",
              "  </tbody>\n",
              "</table>\n",
              "</div>"
            ],
            "text/plain": [
              "   a          b    c  d      e         f\n",
              "0  1 2020-03-01  1.0  5   true  edurekha\n",
              "1  2 2020-03-01  1.0  5  False  edurekha\n",
              "2  3 2020-03-01  1.0  5   True  edurekha\n",
              "3  4 2020-03-01  1.0  5  False  edurekha"
            ]
          },
          "metadata": {},
          "execution_count": 48
        }
      ]
    },
    {
      "cell_type": "code",
      "metadata": {
        "colab": {
          "base_uri": "https://localhost:8080/",
          "height": 172
        },
        "id": "omaFZMDCnZ2H",
        "outputId": "53956a23-6395-43b9-bff4-71bb2623f1a0"
      },
      "source": [
        "df"
      ],
      "execution_count": 49,
      "outputs": [
        {
          "output_type": "execute_result",
          "data": {
            "text/html": [
              "<div>\n",
              "<style scoped>\n",
              "    .dataframe tbody tr th:only-of-type {\n",
              "        vertical-align: middle;\n",
              "    }\n",
              "\n",
              "    .dataframe tbody tr th {\n",
              "        vertical-align: top;\n",
              "    }\n",
              "\n",
              "    .dataframe thead th {\n",
              "        text-align: right;\n",
              "    }\n",
              "</style>\n",
              "<table border=\"1\" class=\"dataframe\">\n",
              "  <thead>\n",
              "    <tr style=\"text-align: right;\">\n",
              "      <th></th>\n",
              "      <th>a</th>\n",
              "      <th>b</th>\n",
              "      <th>c</th>\n",
              "      <th>d</th>\n",
              "      <th>e</th>\n",
              "      <th>f</th>\n",
              "    </tr>\n",
              "  </thead>\n",
              "  <tbody>\n",
              "    <tr>\n",
              "      <th>0</th>\n",
              "      <td>1</td>\n",
              "      <td>2020-03-01</td>\n",
              "      <td>1.0</td>\n",
              "      <td>5</td>\n",
              "      <td>true</td>\n",
              "      <td>edurekha</td>\n",
              "    </tr>\n",
              "    <tr>\n",
              "      <th>1</th>\n",
              "      <td>2</td>\n",
              "      <td>2020-03-01</td>\n",
              "      <td>1.0</td>\n",
              "      <td>5</td>\n",
              "      <td>False</td>\n",
              "      <td>edurekha</td>\n",
              "    </tr>\n",
              "    <tr>\n",
              "      <th>2</th>\n",
              "      <td>3</td>\n",
              "      <td>2020-03-01</td>\n",
              "      <td>1.0</td>\n",
              "      <td>5</td>\n",
              "      <td>True</td>\n",
              "      <td>edurekha</td>\n",
              "    </tr>\n",
              "    <tr>\n",
              "      <th>3</th>\n",
              "      <td>4</td>\n",
              "      <td>2020-03-01</td>\n",
              "      <td>1.0</td>\n",
              "      <td>5</td>\n",
              "      <td>False</td>\n",
              "      <td>edurekha</td>\n",
              "    </tr>\n",
              "  </tbody>\n",
              "</table>\n",
              "</div>"
            ],
            "text/plain": [
              "   a          b    c  d      e         f\n",
              "0  1 2020-03-01  1.0  5   true  edurekha\n",
              "1  2 2020-03-01  1.0  5  False  edurekha\n",
              "2  3 2020-03-01  1.0  5   True  edurekha\n",
              "3  4 2020-03-01  1.0  5  False  edurekha"
            ]
          },
          "metadata": {},
          "execution_count": 49
        }
      ]
    },
    {
      "cell_type": "code",
      "metadata": {
        "colab": {
          "base_uri": "https://localhost:8080/",
          "height": 172
        },
        "id": "K45URHqKnuKO",
        "outputId": "b800f1db-b620-4ff4-9992-bb55faef8172"
      },
      "source": [
        "pd.isna(df)"
      ],
      "execution_count": 51,
      "outputs": [
        {
          "output_type": "execute_result",
          "data": {
            "text/html": [
              "<div>\n",
              "<style scoped>\n",
              "    .dataframe tbody tr th:only-of-type {\n",
              "        vertical-align: middle;\n",
              "    }\n",
              "\n",
              "    .dataframe tbody tr th {\n",
              "        vertical-align: top;\n",
              "    }\n",
              "\n",
              "    .dataframe thead th {\n",
              "        text-align: right;\n",
              "    }\n",
              "</style>\n",
              "<table border=\"1\" class=\"dataframe\">\n",
              "  <thead>\n",
              "    <tr style=\"text-align: right;\">\n",
              "      <th></th>\n",
              "      <th>a</th>\n",
              "      <th>b</th>\n",
              "      <th>c</th>\n",
              "      <th>d</th>\n",
              "      <th>e</th>\n",
              "      <th>f</th>\n",
              "    </tr>\n",
              "  </thead>\n",
              "  <tbody>\n",
              "    <tr>\n",
              "      <th>0</th>\n",
              "      <td>False</td>\n",
              "      <td>False</td>\n",
              "      <td>False</td>\n",
              "      <td>False</td>\n",
              "      <td>False</td>\n",
              "      <td>False</td>\n",
              "    </tr>\n",
              "    <tr>\n",
              "      <th>1</th>\n",
              "      <td>False</td>\n",
              "      <td>False</td>\n",
              "      <td>False</td>\n",
              "      <td>False</td>\n",
              "      <td>False</td>\n",
              "      <td>False</td>\n",
              "    </tr>\n",
              "    <tr>\n",
              "      <th>2</th>\n",
              "      <td>False</td>\n",
              "      <td>False</td>\n",
              "      <td>False</td>\n",
              "      <td>False</td>\n",
              "      <td>False</td>\n",
              "      <td>False</td>\n",
              "    </tr>\n",
              "    <tr>\n",
              "      <th>3</th>\n",
              "      <td>False</td>\n",
              "      <td>False</td>\n",
              "      <td>False</td>\n",
              "      <td>False</td>\n",
              "      <td>False</td>\n",
              "      <td>False</td>\n",
              "    </tr>\n",
              "  </tbody>\n",
              "</table>\n",
              "</div>"
            ],
            "text/plain": [
              "       a      b      c      d      e      f\n",
              "0  False  False  False  False  False  False\n",
              "1  False  False  False  False  False  False\n",
              "2  False  False  False  False  False  False\n",
              "3  False  False  False  False  False  False"
            ]
          },
          "metadata": {},
          "execution_count": 51
        }
      ]
    },
    {
      "cell_type": "code",
      "metadata": {
        "colab": {
          "base_uri": "https://localhost:8080/"
        },
        "id": "7mG8wdnJnywK",
        "outputId": "a753055a-0225-46f3-a3a0-b721b5c62096"
      },
      "source": [
        "df.mean()"
      ],
      "execution_count": 52,
      "outputs": [
        {
          "output_type": "stream",
          "name": "stderr",
          "text": [
            "/usr/local/lib/python3.7/dist-packages/ipykernel_launcher.py:1: FutureWarning: DataFrame.mean and DataFrame.median with numeric_only=None will include datetime64 and datetime64tz columns in a future version.\n",
            "  \"\"\"Entry point for launching an IPython kernel.\n"
          ]
        },
        {
          "output_type": "execute_result",
          "data": {
            "text/plain": [
              "a    2.5\n",
              "c    1.0\n",
              "d    5.0\n",
              "dtype: float64"
            ]
          },
          "metadata": {},
          "execution_count": 52
        }
      ]
    },
    {
      "cell_type": "code",
      "metadata": {
        "colab": {
          "base_uri": "https://localhost:8080/"
        },
        "id": "uGbrfIjBo4cg",
        "outputId": "920d9b42-9f16-49a6-db32-d653d60ecb02"
      },
      "source": [
        "df.mean(1)"
      ],
      "execution_count": 53,
      "outputs": [
        {
          "output_type": "stream",
          "name": "stderr",
          "text": [
            "/usr/local/lib/python3.7/dist-packages/ipykernel_launcher.py:1: FutureWarning: DataFrame.mean and DataFrame.median with numeric_only=None will include datetime64 and datetime64tz columns in a future version.\n",
            "  \"\"\"Entry point for launching an IPython kernel.\n"
          ]
        },
        {
          "output_type": "execute_result",
          "data": {
            "text/plain": [
              "0    2.333333\n",
              "1    2.666667\n",
              "2    3.000000\n",
              "3    3.333333\n",
              "dtype: float64"
            ]
          },
          "metadata": {},
          "execution_count": 53
        }
      ]
    },
    {
      "cell_type": "code",
      "metadata": {
        "id": "jm3HUCvUo9BQ"
      },
      "source": [
        "s = pd.Series([1,2,3,np.nan,4,5,6,7,8,9], index=d).shift(2)"
      ],
      "execution_count": 54,
      "outputs": []
    },
    {
      "cell_type": "code",
      "metadata": {
        "colab": {
          "base_uri": "https://localhost:8080/"
        },
        "id": "Mb7dWS5GpLfS",
        "outputId": "e734512d-5817-428d-f110-8c1f26fdf4f8"
      },
      "source": [
        "s"
      ],
      "execution_count": 55,
      "outputs": [
        {
          "output_type": "execute_result",
          "data": {
            "text/plain": [
              "2020-03-01    NaN\n",
              "2020-03-02    NaN\n",
              "2020-03-03    1.0\n",
              "2020-03-04    2.0\n",
              "2020-03-05    3.0\n",
              "2020-03-06    NaN\n",
              "2020-03-07    4.0\n",
              "2020-03-08    5.0\n",
              "2020-03-09    6.0\n",
              "2020-03-10    7.0\n",
              "Freq: D, dtype: float64"
            ]
          },
          "metadata": {},
          "execution_count": 55
        }
      ]
    },
    {
      "cell_type": "code",
      "metadata": {
        "colab": {
          "base_uri": "https://localhost:8080/",
          "height": 172
        },
        "id": "fAIkA_FApMJJ",
        "outputId": "bc540374-9a82-42ed-d97f-75672e926662"
      },
      "source": [
        "df"
      ],
      "execution_count": 57,
      "outputs": [
        {
          "output_type": "execute_result",
          "data": {
            "text/html": [
              "<div>\n",
              "<style scoped>\n",
              "    .dataframe tbody tr th:only-of-type {\n",
              "        vertical-align: middle;\n",
              "    }\n",
              "\n",
              "    .dataframe tbody tr th {\n",
              "        vertical-align: top;\n",
              "    }\n",
              "\n",
              "    .dataframe thead th {\n",
              "        text-align: right;\n",
              "    }\n",
              "</style>\n",
              "<table border=\"1\" class=\"dataframe\">\n",
              "  <thead>\n",
              "    <tr style=\"text-align: right;\">\n",
              "      <th></th>\n",
              "      <th>a</th>\n",
              "      <th>b</th>\n",
              "      <th>c</th>\n",
              "      <th>d</th>\n",
              "      <th>e</th>\n",
              "      <th>f</th>\n",
              "    </tr>\n",
              "  </thead>\n",
              "  <tbody>\n",
              "    <tr>\n",
              "      <th>0</th>\n",
              "      <td>1</td>\n",
              "      <td>2020-03-01</td>\n",
              "      <td>1.0</td>\n",
              "      <td>5</td>\n",
              "      <td>true</td>\n",
              "      <td>edurekha</td>\n",
              "    </tr>\n",
              "    <tr>\n",
              "      <th>1</th>\n",
              "      <td>2</td>\n",
              "      <td>2020-03-01</td>\n",
              "      <td>1.0</td>\n",
              "      <td>5</td>\n",
              "      <td>False</td>\n",
              "      <td>edurekha</td>\n",
              "    </tr>\n",
              "    <tr>\n",
              "      <th>2</th>\n",
              "      <td>3</td>\n",
              "      <td>2020-03-01</td>\n",
              "      <td>1.0</td>\n",
              "      <td>5</td>\n",
              "      <td>True</td>\n",
              "      <td>edurekha</td>\n",
              "    </tr>\n",
              "    <tr>\n",
              "      <th>3</th>\n",
              "      <td>4</td>\n",
              "      <td>2020-03-01</td>\n",
              "      <td>1.0</td>\n",
              "      <td>5</td>\n",
              "      <td>False</td>\n",
              "      <td>edurekha</td>\n",
              "    </tr>\n",
              "  </tbody>\n",
              "</table>\n",
              "</div>"
            ],
            "text/plain": [
              "   a          b    c  d      e         f\n",
              "0  1 2020-03-01  1.0  5   true  edurekha\n",
              "1  2 2020-03-01  1.0  5  False  edurekha\n",
              "2  3 2020-03-01  1.0  5   True  edurekha\n",
              "3  4 2020-03-01  1.0  5  False  edurekha"
            ]
          },
          "metadata": {},
          "execution_count": 57
        }
      ]
    },
    {
      "cell_type": "code",
      "metadata": {
        "colab": {
          "base_uri": "https://localhost:8080/"
        },
        "id": "8n2eN3k2pRNU",
        "outputId": "f8aa46f1-2f89-4367-93c1-4943973cd109"
      },
      "source": [
        "s.value_counts()"
      ],
      "execution_count": 60,
      "outputs": [
        {
          "output_type": "execute_result",
          "data": {
            "text/plain": [
              "7.0    1\n",
              "6.0    1\n",
              "5.0    1\n",
              "4.0    1\n",
              "3.0    1\n",
              "2.0    1\n",
              "1.0    1\n",
              "dtype: int64"
            ]
          },
          "metadata": {},
          "execution_count": 60
        }
      ]
    },
    {
      "cell_type": "code",
      "metadata": {
        "id": "AoPNNd_spa7s"
      },
      "source": [
        "s = pd.Series(['edurekha','python','surya','vijay','natali','jhansi'])\n"
      ],
      "execution_count": 65,
      "outputs": []
    },
    {
      "cell_type": "code",
      "metadata": {
        "colab": {
          "base_uri": "https://localhost:8080/"
        },
        "id": "iBHxduGtqCPh",
        "outputId": "cfbe131e-f168-41b2-dc0e-8ca6bc62442e"
      },
      "source": [
        "s"
      ],
      "execution_count": 66,
      "outputs": [
        {
          "output_type": "execute_result",
          "data": {
            "text/plain": [
              "0    edurekha\n",
              "1      python\n",
              "2       surya\n",
              "3       vijay\n",
              "4      natali\n",
              "5      jhansi\n",
              "dtype: object"
            ]
          },
          "metadata": {},
          "execution_count": 66
        }
      ]
    },
    {
      "cell_type": "code",
      "metadata": {
        "colab": {
          "base_uri": "https://localhost:8080/"
        },
        "id": "4sLczmn2qKxw",
        "outputId": "8096a998-3202-4b7f-cb7e-a2af9c1f033f"
      },
      "source": [
        "s.str.upper()"
      ],
      "execution_count": 67,
      "outputs": [
        {
          "output_type": "execute_result",
          "data": {
            "text/plain": [
              "0    EDUREKHA\n",
              "1      PYTHON\n",
              "2       SURYA\n",
              "3       VIJAY\n",
              "4      NATALI\n",
              "5      JHANSI\n",
              "dtype: object"
            ]
          },
          "metadata": {},
          "execution_count": 67
        }
      ]
    },
    {
      "cell_type": "code",
      "metadata": {
        "id": "TAu_GVnsqNZo"
      },
      "source": [
        "df = pd.DataFrame(np.random.randn(10,4))"
      ],
      "execution_count": 71,
      "outputs": []
    },
    {
      "cell_type": "code",
      "metadata": {
        "colab": {
          "base_uri": "https://localhost:8080/",
          "height": 356
        },
        "id": "D_e1IopJqes5",
        "outputId": "6f8d0a8b-4a68-432b-cd17-8cc938655212"
      },
      "source": [
        "df"
      ],
      "execution_count": 72,
      "outputs": [
        {
          "output_type": "execute_result",
          "data": {
            "text/html": [
              "<div>\n",
              "<style scoped>\n",
              "    .dataframe tbody tr th:only-of-type {\n",
              "        vertical-align: middle;\n",
              "    }\n",
              "\n",
              "    .dataframe tbody tr th {\n",
              "        vertical-align: top;\n",
              "    }\n",
              "\n",
              "    .dataframe thead th {\n",
              "        text-align: right;\n",
              "    }\n",
              "</style>\n",
              "<table border=\"1\" class=\"dataframe\">\n",
              "  <thead>\n",
              "    <tr style=\"text-align: right;\">\n",
              "      <th></th>\n",
              "      <th>0</th>\n",
              "      <th>1</th>\n",
              "      <th>2</th>\n",
              "      <th>3</th>\n",
              "    </tr>\n",
              "  </thead>\n",
              "  <tbody>\n",
              "    <tr>\n",
              "      <th>0</th>\n",
              "      <td>0.069832</td>\n",
              "      <td>0.233224</td>\n",
              "      <td>-0.705286</td>\n",
              "      <td>-0.946639</td>\n",
              "    </tr>\n",
              "    <tr>\n",
              "      <th>1</th>\n",
              "      <td>0.303941</td>\n",
              "      <td>-0.602167</td>\n",
              "      <td>-1.091750</td>\n",
              "      <td>-0.490055</td>\n",
              "    </tr>\n",
              "    <tr>\n",
              "      <th>2</th>\n",
              "      <td>0.772416</td>\n",
              "      <td>-0.476888</td>\n",
              "      <td>-0.520861</td>\n",
              "      <td>-1.829775</td>\n",
              "    </tr>\n",
              "    <tr>\n",
              "      <th>3</th>\n",
              "      <td>-0.989214</td>\n",
              "      <td>-1.004896</td>\n",
              "      <td>0.069504</td>\n",
              "      <td>0.088176</td>\n",
              "    </tr>\n",
              "    <tr>\n",
              "      <th>4</th>\n",
              "      <td>2.664438</td>\n",
              "      <td>-0.488468</td>\n",
              "      <td>-0.438760</td>\n",
              "      <td>0.111148</td>\n",
              "    </tr>\n",
              "    <tr>\n",
              "      <th>5</th>\n",
              "      <td>1.657523</td>\n",
              "      <td>0.232170</td>\n",
              "      <td>-0.108827</td>\n",
              "      <td>-0.486013</td>\n",
              "    </tr>\n",
              "    <tr>\n",
              "      <th>6</th>\n",
              "      <td>-0.759383</td>\n",
              "      <td>0.402904</td>\n",
              "      <td>-1.875392</td>\n",
              "      <td>-2.196799</td>\n",
              "    </tr>\n",
              "    <tr>\n",
              "      <th>7</th>\n",
              "      <td>0.779656</td>\n",
              "      <td>-0.901836</td>\n",
              "      <td>-1.340046</td>\n",
              "      <td>-1.617379</td>\n",
              "    </tr>\n",
              "    <tr>\n",
              "      <th>8</th>\n",
              "      <td>-1.100501</td>\n",
              "      <td>-0.016103</td>\n",
              "      <td>-0.456834</td>\n",
              "      <td>-0.430574</td>\n",
              "    </tr>\n",
              "    <tr>\n",
              "      <th>9</th>\n",
              "      <td>0.536344</td>\n",
              "      <td>0.466746</td>\n",
              "      <td>-2.196240</td>\n",
              "      <td>0.809633</td>\n",
              "    </tr>\n",
              "  </tbody>\n",
              "</table>\n",
              "</div>"
            ],
            "text/plain": [
              "          0         1         2         3\n",
              "0  0.069832  0.233224 -0.705286 -0.946639\n",
              "1  0.303941 -0.602167 -1.091750 -0.490055\n",
              "2  0.772416 -0.476888 -0.520861 -1.829775\n",
              "3 -0.989214 -1.004896  0.069504  0.088176\n",
              "4  2.664438 -0.488468 -0.438760  0.111148\n",
              "5  1.657523  0.232170 -0.108827 -0.486013\n",
              "6 -0.759383  0.402904 -1.875392 -2.196799\n",
              "7  0.779656 -0.901836 -1.340046 -1.617379\n",
              "8 -1.100501 -0.016103 -0.456834 -0.430574\n",
              "9  0.536344  0.466746 -2.196240  0.809633"
            ]
          },
          "metadata": {},
          "execution_count": 72
        }
      ]
    },
    {
      "cell_type": "code",
      "metadata": {
        "id": "2WH2-6WBqtg1"
      },
      "source": [
        "df2 = [df[:3], df[3:7], df[7:]]\n"
      ],
      "execution_count": 73,
      "outputs": []
    },
    {
      "cell_type": "code",
      "metadata": {
        "colab": {
          "base_uri": "https://localhost:8080/"
        },
        "id": "HxxIoabLq2h0",
        "outputId": "da0ed7f5-9ee5-4d04-85cb-c45a11a4dcea"
      },
      "source": [
        "df2"
      ],
      "execution_count": 74,
      "outputs": [
        {
          "output_type": "execute_result",
          "data": {
            "text/plain": [
              "[          0         1         2         3\n",
              " 0  0.069832  0.233224 -0.705286 -0.946639\n",
              " 1  0.303941 -0.602167 -1.091750 -0.490055\n",
              " 2  0.772416 -0.476888 -0.520861 -1.829775,\n",
              "           0         1         2         3\n",
              " 3 -0.989214 -1.004896  0.069504  0.088176\n",
              " 4  2.664438 -0.488468 -0.438760  0.111148\n",
              " 5  1.657523  0.232170 -0.108827 -0.486013\n",
              " 6 -0.759383  0.402904 -1.875392 -2.196799,\n",
              "           0         1         2         3\n",
              " 7  0.779656 -0.901836 -1.340046 -1.617379\n",
              " 8 -1.100501 -0.016103 -0.456834 -0.430574\n",
              " 9  0.536344  0.466746 -2.196240  0.809633]"
            ]
          },
          "metadata": {},
          "execution_count": 74
        }
      ]
    },
    {
      "cell_type": "code",
      "metadata": {
        "id": "P7fPApLaq3hw"
      },
      "source": [
        "left = pd.DataFrame({'a': [4,5], 'b': [8,4]})"
      ],
      "execution_count": 75,
      "outputs": []
    },
    {
      "cell_type": "code",
      "metadata": {
        "id": "OLe5Z7zurFXT"
      },
      "source": [
        "right = pd.DataFrame({'d': [89,12], 'e': [36,15]})"
      ],
      "execution_count": 76,
      "outputs": []
    },
    {
      "cell_type": "code",
      "metadata": {
        "colab": {
          "base_uri": "https://localhost:8080/",
          "height": 110
        },
        "id": "EsuTuDx2rLs0",
        "outputId": "860527f5-c2c8-48b8-b8f0-690d455e61bb"
      },
      "source": [
        "left"
      ],
      "execution_count": 77,
      "outputs": [
        {
          "output_type": "execute_result",
          "data": {
            "text/html": [
              "<div>\n",
              "<style scoped>\n",
              "    .dataframe tbody tr th:only-of-type {\n",
              "        vertical-align: middle;\n",
              "    }\n",
              "\n",
              "    .dataframe tbody tr th {\n",
              "        vertical-align: top;\n",
              "    }\n",
              "\n",
              "    .dataframe thead th {\n",
              "        text-align: right;\n",
              "    }\n",
              "</style>\n",
              "<table border=\"1\" class=\"dataframe\">\n",
              "  <thead>\n",
              "    <tr style=\"text-align: right;\">\n",
              "      <th></th>\n",
              "      <th>a</th>\n",
              "      <th>b</th>\n",
              "    </tr>\n",
              "  </thead>\n",
              "  <tbody>\n",
              "    <tr>\n",
              "      <th>0</th>\n",
              "      <td>4</td>\n",
              "      <td>8</td>\n",
              "    </tr>\n",
              "    <tr>\n",
              "      <th>1</th>\n",
              "      <td>5</td>\n",
              "      <td>4</td>\n",
              "    </tr>\n",
              "  </tbody>\n",
              "</table>\n",
              "</div>"
            ],
            "text/plain": [
              "   a  b\n",
              "0  4  8\n",
              "1  5  4"
            ]
          },
          "metadata": {},
          "execution_count": 77
        }
      ]
    },
    {
      "cell_type": "code",
      "metadata": {
        "colab": {
          "base_uri": "https://localhost:8080/",
          "height": 110
        },
        "id": "PxzV4wnkrMgc",
        "outputId": "0d266186-4858-41c5-eddc-e5056088bc08"
      },
      "source": [
        "right"
      ],
      "execution_count": 78,
      "outputs": [
        {
          "output_type": "execute_result",
          "data": {
            "text/html": [
              "<div>\n",
              "<style scoped>\n",
              "    .dataframe tbody tr th:only-of-type {\n",
              "        vertical-align: middle;\n",
              "    }\n",
              "\n",
              "    .dataframe tbody tr th {\n",
              "        vertical-align: top;\n",
              "    }\n",
              "\n",
              "    .dataframe thead th {\n",
              "        text-align: right;\n",
              "    }\n",
              "</style>\n",
              "<table border=\"1\" class=\"dataframe\">\n",
              "  <thead>\n",
              "    <tr style=\"text-align: right;\">\n",
              "      <th></th>\n",
              "      <th>d</th>\n",
              "      <th>e</th>\n",
              "    </tr>\n",
              "  </thead>\n",
              "  <tbody>\n",
              "    <tr>\n",
              "      <th>0</th>\n",
              "      <td>89</td>\n",
              "      <td>36</td>\n",
              "    </tr>\n",
              "    <tr>\n",
              "      <th>1</th>\n",
              "      <td>12</td>\n",
              "      <td>15</td>\n",
              "    </tr>\n",
              "  </tbody>\n",
              "</table>\n",
              "</div>"
            ],
            "text/plain": [
              "    d   e\n",
              "0  89  36\n",
              "1  12  15"
            ]
          },
          "metadata": {},
          "execution_count": 78
        }
      ]
    },
    {
      "cell_type": "code",
      "metadata": {
        "colab": {
          "base_uri": "https://localhost:8080/",
          "height": 387
        },
        "id": "h3EefD3YrNT6",
        "outputId": "b36109ee-d44c-450f-ecbf-3bf70f38aec8"
      },
      "source": [
        "df.groupby([2,3]).sum()"
      ],
      "execution_count": 87,
      "outputs": [
        {
          "output_type": "execute_result",
          "data": {
            "text/html": [
              "<div>\n",
              "<style scoped>\n",
              "    .dataframe tbody tr th:only-of-type {\n",
              "        vertical-align: middle;\n",
              "    }\n",
              "\n",
              "    .dataframe tbody tr th {\n",
              "        vertical-align: top;\n",
              "    }\n",
              "\n",
              "    .dataframe thead th {\n",
              "        text-align: right;\n",
              "    }\n",
              "</style>\n",
              "<table border=\"1\" class=\"dataframe\">\n",
              "  <thead>\n",
              "    <tr style=\"text-align: right;\">\n",
              "      <th></th>\n",
              "      <th></th>\n",
              "      <th>0</th>\n",
              "      <th>1</th>\n",
              "    </tr>\n",
              "    <tr>\n",
              "      <th>2</th>\n",
              "      <th>3</th>\n",
              "      <th></th>\n",
              "      <th></th>\n",
              "    </tr>\n",
              "  </thead>\n",
              "  <tbody>\n",
              "    <tr>\n",
              "      <th>-2.196240</th>\n",
              "      <th>0.809633</th>\n",
              "      <td>0.536344</td>\n",
              "      <td>0.466746</td>\n",
              "    </tr>\n",
              "    <tr>\n",
              "      <th>-1.875392</th>\n",
              "      <th>-2.196799</th>\n",
              "      <td>-0.759383</td>\n",
              "      <td>0.402904</td>\n",
              "    </tr>\n",
              "    <tr>\n",
              "      <th>-1.340046</th>\n",
              "      <th>-1.617379</th>\n",
              "      <td>0.779656</td>\n",
              "      <td>-0.901836</td>\n",
              "    </tr>\n",
              "    <tr>\n",
              "      <th>-1.091750</th>\n",
              "      <th>-0.490055</th>\n",
              "      <td>0.303941</td>\n",
              "      <td>-0.602167</td>\n",
              "    </tr>\n",
              "    <tr>\n",
              "      <th>-0.705286</th>\n",
              "      <th>-0.946639</th>\n",
              "      <td>0.069832</td>\n",
              "      <td>0.233224</td>\n",
              "    </tr>\n",
              "    <tr>\n",
              "      <th>-0.520861</th>\n",
              "      <th>-1.829775</th>\n",
              "      <td>0.772416</td>\n",
              "      <td>-0.476888</td>\n",
              "    </tr>\n",
              "    <tr>\n",
              "      <th>-0.456834</th>\n",
              "      <th>-0.430574</th>\n",
              "      <td>-1.100501</td>\n",
              "      <td>-0.016103</td>\n",
              "    </tr>\n",
              "    <tr>\n",
              "      <th>-0.438760</th>\n",
              "      <th>0.111148</th>\n",
              "      <td>2.664438</td>\n",
              "      <td>-0.488468</td>\n",
              "    </tr>\n",
              "    <tr>\n",
              "      <th>-0.108827</th>\n",
              "      <th>-0.486013</th>\n",
              "      <td>1.657523</td>\n",
              "      <td>0.232170</td>\n",
              "    </tr>\n",
              "    <tr>\n",
              "      <th>0.069504</th>\n",
              "      <th>0.088176</th>\n",
              "      <td>-0.989214</td>\n",
              "      <td>-1.004896</td>\n",
              "    </tr>\n",
              "  </tbody>\n",
              "</table>\n",
              "</div>"
            ],
            "text/plain": [
              "                            0         1\n",
              "2         3                            \n",
              "-2.196240  0.809633  0.536344  0.466746\n",
              "-1.875392 -2.196799 -0.759383  0.402904\n",
              "-1.340046 -1.617379  0.779656 -0.901836\n",
              "-1.091750 -0.490055  0.303941 -0.602167\n",
              "-0.705286 -0.946639  0.069832  0.233224\n",
              "-0.520861 -1.829775  0.772416 -0.476888\n",
              "-0.456834 -0.430574 -1.100501 -0.016103\n",
              "-0.438760  0.111148  2.664438 -0.488468\n",
              "-0.108827 -0.486013  1.657523  0.232170\n",
              " 0.069504  0.088176 -0.989214 -1.004896"
            ]
          },
          "metadata": {},
          "execution_count": 87
        }
      ]
    },
    {
      "cell_type": "code",
      "metadata": {
        "id": "xxdokam2rU6p"
      },
      "source": [
        "my_tuple = list(zip(*[[1,2,3,4,5],[10,56,2,1,4],[15,16,78,12,20]]))\n"
      ],
      "execution_count": 88,
      "outputs": []
    },
    {
      "cell_type": "code",
      "metadata": {
        "colab": {
          "base_uri": "https://localhost:8080/"
        },
        "id": "1wYMkm7isMTA",
        "outputId": "e0afce9c-a3d7-4bc2-a96b-4d81cb26a1ac"
      },
      "source": [
        "df.stack()"
      ],
      "execution_count": 90,
      "outputs": [
        {
          "output_type": "execute_result",
          "data": {
            "text/plain": [
              "0  0    0.069832\n",
              "   1    0.233224\n",
              "   2   -0.705286\n",
              "   3   -0.946639\n",
              "1  0    0.303941\n",
              "   1   -0.602167\n",
              "   2   -1.091750\n",
              "   3   -0.490055\n",
              "2  0    0.772416\n",
              "   1   -0.476888\n",
              "   2   -0.520861\n",
              "   3   -1.829775\n",
              "3  0   -0.989214\n",
              "   1   -1.004896\n",
              "   2    0.069504\n",
              "   3    0.088176\n",
              "4  0    2.664438\n",
              "   1   -0.488468\n",
              "   2   -0.438760\n",
              "   3    0.111148\n",
              "5  0    1.657523\n",
              "   1    0.232170\n",
              "   2   -0.108827\n",
              "   3   -0.486013\n",
              "6  0   -0.759383\n",
              "   1    0.402904\n",
              "   2   -1.875392\n",
              "   3   -2.196799\n",
              "7  0    0.779656\n",
              "   1   -0.901836\n",
              "   2   -1.340046\n",
              "   3   -1.617379\n",
              "8  0   -1.100501\n",
              "   1   -0.016103\n",
              "   2   -0.456834\n",
              "   3   -0.430574\n",
              "9  0    0.536344\n",
              "   1    0.466746\n",
              "   2   -2.196240\n",
              "   3    0.809633\n",
              "dtype: float64"
            ]
          },
          "metadata": {},
          "execution_count": 90
        }
      ]
    },
    {
      "cell_type": "code",
      "metadata": {
        "colab": {
          "base_uri": "https://localhost:8080/"
        },
        "id": "PHwQ5-qEsZh3",
        "outputId": "e147d31e-a2d8-4880-a410-1b66cee0ffb4"
      },
      "source": [
        "df.unstack()"
      ],
      "execution_count": 91,
      "outputs": [
        {
          "output_type": "execute_result",
          "data": {
            "text/plain": [
              "0  0    0.069832\n",
              "   1    0.303941\n",
              "   2    0.772416\n",
              "   3   -0.989214\n",
              "   4    2.664438\n",
              "   5    1.657523\n",
              "   6   -0.759383\n",
              "   7    0.779656\n",
              "   8   -1.100501\n",
              "   9    0.536344\n",
              "1  0    0.233224\n",
              "   1   -0.602167\n",
              "   2   -0.476888\n",
              "   3   -1.004896\n",
              "   4   -0.488468\n",
              "   5    0.232170\n",
              "   6    0.402904\n",
              "   7   -0.901836\n",
              "   8   -0.016103\n",
              "   9    0.466746\n",
              "2  0   -0.705286\n",
              "   1   -1.091750\n",
              "   2   -0.520861\n",
              "   3    0.069504\n",
              "   4   -0.438760\n",
              "   5   -0.108827\n",
              "   6   -1.875392\n",
              "   7   -1.340046\n",
              "   8   -0.456834\n",
              "   9   -2.196240\n",
              "3  0   -0.946639\n",
              "   1   -0.490055\n",
              "   2   -1.829775\n",
              "   3    0.088176\n",
              "   4    0.111148\n",
              "   5   -0.486013\n",
              "   6   -2.196799\n",
              "   7   -1.617379\n",
              "   8   -0.430574\n",
              "   9    0.809633\n",
              "dtype: float64"
            ]
          },
          "metadata": {},
          "execution_count": 91
        }
      ]
    },
    {
      "cell_type": "code",
      "metadata": {
        "colab": {
          "base_uri": "https://localhost:8080/",
          "height": 356
        },
        "id": "VW2_cqqPs1mN",
        "outputId": "7f7d9a9d-fa50-407e-b5e1-b4965b922d02"
      },
      "source": [
        "df"
      ],
      "execution_count": 92,
      "outputs": [
        {
          "output_type": "execute_result",
          "data": {
            "text/html": [
              "<div>\n",
              "<style scoped>\n",
              "    .dataframe tbody tr th:only-of-type {\n",
              "        vertical-align: middle;\n",
              "    }\n",
              "\n",
              "    .dataframe tbody tr th {\n",
              "        vertical-align: top;\n",
              "    }\n",
              "\n",
              "    .dataframe thead th {\n",
              "        text-align: right;\n",
              "    }\n",
              "</style>\n",
              "<table border=\"1\" class=\"dataframe\">\n",
              "  <thead>\n",
              "    <tr style=\"text-align: right;\">\n",
              "      <th></th>\n",
              "      <th>0</th>\n",
              "      <th>1</th>\n",
              "      <th>2</th>\n",
              "      <th>3</th>\n",
              "    </tr>\n",
              "  </thead>\n",
              "  <tbody>\n",
              "    <tr>\n",
              "      <th>0</th>\n",
              "      <td>0.069832</td>\n",
              "      <td>0.233224</td>\n",
              "      <td>-0.705286</td>\n",
              "      <td>-0.946639</td>\n",
              "    </tr>\n",
              "    <tr>\n",
              "      <th>1</th>\n",
              "      <td>0.303941</td>\n",
              "      <td>-0.602167</td>\n",
              "      <td>-1.091750</td>\n",
              "      <td>-0.490055</td>\n",
              "    </tr>\n",
              "    <tr>\n",
              "      <th>2</th>\n",
              "      <td>0.772416</td>\n",
              "      <td>-0.476888</td>\n",
              "      <td>-0.520861</td>\n",
              "      <td>-1.829775</td>\n",
              "    </tr>\n",
              "    <tr>\n",
              "      <th>3</th>\n",
              "      <td>-0.989214</td>\n",
              "      <td>-1.004896</td>\n",
              "      <td>0.069504</td>\n",
              "      <td>0.088176</td>\n",
              "    </tr>\n",
              "    <tr>\n",
              "      <th>4</th>\n",
              "      <td>2.664438</td>\n",
              "      <td>-0.488468</td>\n",
              "      <td>-0.438760</td>\n",
              "      <td>0.111148</td>\n",
              "    </tr>\n",
              "    <tr>\n",
              "      <th>5</th>\n",
              "      <td>1.657523</td>\n",
              "      <td>0.232170</td>\n",
              "      <td>-0.108827</td>\n",
              "      <td>-0.486013</td>\n",
              "    </tr>\n",
              "    <tr>\n",
              "      <th>6</th>\n",
              "      <td>-0.759383</td>\n",
              "      <td>0.402904</td>\n",
              "      <td>-1.875392</td>\n",
              "      <td>-2.196799</td>\n",
              "    </tr>\n",
              "    <tr>\n",
              "      <th>7</th>\n",
              "      <td>0.779656</td>\n",
              "      <td>-0.901836</td>\n",
              "      <td>-1.340046</td>\n",
              "      <td>-1.617379</td>\n",
              "    </tr>\n",
              "    <tr>\n",
              "      <th>8</th>\n",
              "      <td>-1.100501</td>\n",
              "      <td>-0.016103</td>\n",
              "      <td>-0.456834</td>\n",
              "      <td>-0.430574</td>\n",
              "    </tr>\n",
              "    <tr>\n",
              "      <th>9</th>\n",
              "      <td>0.536344</td>\n",
              "      <td>0.466746</td>\n",
              "      <td>-2.196240</td>\n",
              "      <td>0.809633</td>\n",
              "    </tr>\n",
              "  </tbody>\n",
              "</table>\n",
              "</div>"
            ],
            "text/plain": [
              "          0         1         2         3\n",
              "0  0.069832  0.233224 -0.705286 -0.946639\n",
              "1  0.303941 -0.602167 -1.091750 -0.490055\n",
              "2  0.772416 -0.476888 -0.520861 -1.829775\n",
              "3 -0.989214 -1.004896  0.069504  0.088176\n",
              "4  2.664438 -0.488468 -0.438760  0.111148\n",
              "5  1.657523  0.232170 -0.108827 -0.486013\n",
              "6 -0.759383  0.402904 -1.875392 -2.196799\n",
              "7  0.779656 -0.901836 -1.340046 -1.617379\n",
              "8 -1.100501 -0.016103 -0.456834 -0.430574\n",
              "9  0.536344  0.466746 -2.196240  0.809633"
            ]
          },
          "metadata": {},
          "execution_count": 92
        }
      ]
    },
    {
      "cell_type": "code",
      "metadata": {
        "id": "Q3_o7E90s3AV"
      },
      "source": [
        "dates = pd.date_range('20200301', periods=100, freq='S')"
      ],
      "execution_count": 101,
      "outputs": []
    },
    {
      "cell_type": "code",
      "metadata": {
        "colab": {
          "base_uri": "https://localhost:8080/"
        },
        "id": "uieIuK0EtqMw",
        "outputId": "a41d62e8-fa28-4207-e6b8-72f0fdd96e55"
      },
      "source": [
        "dates"
      ],
      "execution_count": 102,
      "outputs": [
        {
          "output_type": "execute_result",
          "data": {
            "text/plain": [
              "DatetimeIndex(['2020-03-01 00:00:00', '2020-03-01 00:00:01',\n",
              "               '2020-03-01 00:00:02', '2020-03-01 00:00:03',\n",
              "               '2020-03-01 00:00:04', '2020-03-01 00:00:05',\n",
              "               '2020-03-01 00:00:06', '2020-03-01 00:00:07',\n",
              "               '2020-03-01 00:00:08', '2020-03-01 00:00:09',\n",
              "               '2020-03-01 00:00:10', '2020-03-01 00:00:11',\n",
              "               '2020-03-01 00:00:12', '2020-03-01 00:00:13',\n",
              "               '2020-03-01 00:00:14', '2020-03-01 00:00:15',\n",
              "               '2020-03-01 00:00:16', '2020-03-01 00:00:17',\n",
              "               '2020-03-01 00:00:18', '2020-03-01 00:00:19',\n",
              "               '2020-03-01 00:00:20', '2020-03-01 00:00:21',\n",
              "               '2020-03-01 00:00:22', '2020-03-01 00:00:23',\n",
              "               '2020-03-01 00:00:24', '2020-03-01 00:00:25',\n",
              "               '2020-03-01 00:00:26', '2020-03-01 00:00:27',\n",
              "               '2020-03-01 00:00:28', '2020-03-01 00:00:29',\n",
              "               '2020-03-01 00:00:30', '2020-03-01 00:00:31',\n",
              "               '2020-03-01 00:00:32', '2020-03-01 00:00:33',\n",
              "               '2020-03-01 00:00:34', '2020-03-01 00:00:35',\n",
              "               '2020-03-01 00:00:36', '2020-03-01 00:00:37',\n",
              "               '2020-03-01 00:00:38', '2020-03-01 00:00:39',\n",
              "               '2020-03-01 00:00:40', '2020-03-01 00:00:41',\n",
              "               '2020-03-01 00:00:42', '2020-03-01 00:00:43',\n",
              "               '2020-03-01 00:00:44', '2020-03-01 00:00:45',\n",
              "               '2020-03-01 00:00:46', '2020-03-01 00:00:47',\n",
              "               '2020-03-01 00:00:48', '2020-03-01 00:00:49',\n",
              "               '2020-03-01 00:00:50', '2020-03-01 00:00:51',\n",
              "               '2020-03-01 00:00:52', '2020-03-01 00:00:53',\n",
              "               '2020-03-01 00:00:54', '2020-03-01 00:00:55',\n",
              "               '2020-03-01 00:00:56', '2020-03-01 00:00:57',\n",
              "               '2020-03-01 00:00:58', '2020-03-01 00:00:59',\n",
              "               '2020-03-01 00:01:00', '2020-03-01 00:01:01',\n",
              "               '2020-03-01 00:01:02', '2020-03-01 00:01:03',\n",
              "               '2020-03-01 00:01:04', '2020-03-01 00:01:05',\n",
              "               '2020-03-01 00:01:06', '2020-03-01 00:01:07',\n",
              "               '2020-03-01 00:01:08', '2020-03-01 00:01:09',\n",
              "               '2020-03-01 00:01:10', '2020-03-01 00:01:11',\n",
              "               '2020-03-01 00:01:12', '2020-03-01 00:01:13',\n",
              "               '2020-03-01 00:01:14', '2020-03-01 00:01:15',\n",
              "               '2020-03-01 00:01:16', '2020-03-01 00:01:17',\n",
              "               '2020-03-01 00:01:18', '2020-03-01 00:01:19',\n",
              "               '2020-03-01 00:01:20', '2020-03-01 00:01:21',\n",
              "               '2020-03-01 00:01:22', '2020-03-01 00:01:23',\n",
              "               '2020-03-01 00:01:24', '2020-03-01 00:01:25',\n",
              "               '2020-03-01 00:01:26', '2020-03-01 00:01:27',\n",
              "               '2020-03-01 00:01:28', '2020-03-01 00:01:29',\n",
              "               '2020-03-01 00:01:30', '2020-03-01 00:01:31',\n",
              "               '2020-03-01 00:01:32', '2020-03-01 00:01:33',\n",
              "               '2020-03-01 00:01:34', '2020-03-01 00:01:35',\n",
              "               '2020-03-01 00:01:36', '2020-03-01 00:01:37',\n",
              "               '2020-03-01 00:01:38', '2020-03-01 00:01:39'],\n",
              "              dtype='datetime64[ns]', freq='S')"
            ]
          },
          "metadata": {},
          "execution_count": 102
        }
      ]
    },
    {
      "cell_type": "code",
      "metadata": {
        "id": "xK_5cmkButaC"
      },
      "source": [
        "ts = pd.Series(np.random.randint(0,500,len(dates)), dates)"
      ],
      "execution_count": 103,
      "outputs": []
    },
    {
      "cell_type": "code",
      "metadata": {
        "colab": {
          "base_uri": "https://localhost:8080/"
        },
        "id": "KfKNd1HLvCSa",
        "outputId": "74c3720e-6bcb-4241-b68b-67a5642f84c6"
      },
      "source": [
        "ts"
      ],
      "execution_count": 104,
      "outputs": [
        {
          "output_type": "execute_result",
          "data": {
            "text/plain": [
              "2020-03-01 00:00:00    224\n",
              "2020-03-01 00:00:01    486\n",
              "2020-03-01 00:00:02    353\n",
              "2020-03-01 00:00:03    312\n",
              "2020-03-01 00:00:04    105\n",
              "                      ... \n",
              "2020-03-01 00:01:35      8\n",
              "2020-03-01 00:01:36    187\n",
              "2020-03-01 00:01:37     63\n",
              "2020-03-01 00:01:38    414\n",
              "2020-03-01 00:01:39    345\n",
              "Freq: S, Length: 100, dtype: int64"
            ]
          },
          "metadata": {},
          "execution_count": 104
        }
      ]
    },
    {
      "cell_type": "code",
      "metadata": {
        "colab": {
          "base_uri": "https://localhost:8080/"
        },
        "id": "bnadMWVkvDIQ",
        "outputId": "d96fcaa5-a298-4adc-eef3-dc16da70a257"
      },
      "source": [
        "ts.resample('5 min').sum()"
      ],
      "execution_count": 105,
      "outputs": [
        {
          "output_type": "execute_result",
          "data": {
            "text/plain": [
              "2020-03-01    23240\n",
              "Freq: 5T, dtype: int64"
            ]
          },
          "metadata": {},
          "execution_count": 105
        }
      ]
    },
    {
      "cell_type": "code",
      "metadata": {
        "id": "WQArRPFkvIr_"
      },
      "source": [
        "ts_utc = ts.tz_localize('UTC')"
      ],
      "execution_count": 106,
      "outputs": []
    },
    {
      "cell_type": "code",
      "metadata": {
        "colab": {
          "base_uri": "https://localhost:8080/"
        },
        "id": "R5lvC-znvbHU",
        "outputId": "ab50d5b5-47d4-46ba-ad6e-a4a6402f5c83"
      },
      "source": [
        "ts_utc"
      ],
      "execution_count": 107,
      "outputs": [
        {
          "output_type": "execute_result",
          "data": {
            "text/plain": [
              "2020-03-01 00:00:00+00:00    224\n",
              "2020-03-01 00:00:01+00:00    486\n",
              "2020-03-01 00:00:02+00:00    353\n",
              "2020-03-01 00:00:03+00:00    312\n",
              "2020-03-01 00:00:04+00:00    105\n",
              "                            ... \n",
              "2020-03-01 00:01:35+00:00      8\n",
              "2020-03-01 00:01:36+00:00    187\n",
              "2020-03-01 00:01:37+00:00     63\n",
              "2020-03-01 00:01:38+00:00    414\n",
              "2020-03-01 00:01:39+00:00    345\n",
              "Freq: S, Length: 100, dtype: int64"
            ]
          },
          "metadata": {},
          "execution_count": 107
        }
      ]
    },
    {
      "cell_type": "code",
      "metadata": {
        "colab": {
          "base_uri": "https://localhost:8080/"
        },
        "id": "2KrX7HsEvcqA",
        "outputId": "11a30868-40be-43b6-9c2b-0e574bf9287a"
      },
      "source": [
        "ts_utc.tz_convert('US/Eastern')"
      ],
      "execution_count": 108,
      "outputs": [
        {
          "output_type": "execute_result",
          "data": {
            "text/plain": [
              "2020-02-29 19:00:00-05:00    224\n",
              "2020-02-29 19:00:01-05:00    486\n",
              "2020-02-29 19:00:02-05:00    353\n",
              "2020-02-29 19:00:03-05:00    312\n",
              "2020-02-29 19:00:04-05:00    105\n",
              "                            ... \n",
              "2020-02-29 19:01:35-05:00      8\n",
              "2020-02-29 19:01:36-05:00    187\n",
              "2020-02-29 19:01:37-05:00     63\n",
              "2020-02-29 19:01:38-05:00    414\n",
              "2020-02-29 19:01:39-05:00    345\n",
              "Freq: S, Length: 100, dtype: int64"
            ]
          },
          "metadata": {},
          "execution_count": 108
        }
      ]
    },
    {
      "cell_type": "code",
      "metadata": {
        "id": "j4BuvtgKvmYm"
      },
      "source": [
        "ps = ts.to_period()\n"
      ],
      "execution_count": 109,
      "outputs": []
    },
    {
      "cell_type": "code",
      "metadata": {
        "colab": {
          "base_uri": "https://localhost:8080/"
        },
        "id": "RCkAn5cKv2cG",
        "outputId": "b4135d66-e6a4-4b57-eba2-197486941cc2"
      },
      "source": [
        "ps"
      ],
      "execution_count": 110,
      "outputs": [
        {
          "output_type": "execute_result",
          "data": {
            "text/plain": [
              "2020-03-01 00:00:00    224\n",
              "2020-03-01 00:00:01    486\n",
              "2020-03-01 00:00:02    353\n",
              "2020-03-01 00:00:03    312\n",
              "2020-03-01 00:00:04    105\n",
              "                      ... \n",
              "2020-03-01 00:01:35      8\n",
              "2020-03-01 00:01:36    187\n",
              "2020-03-01 00:01:37     63\n",
              "2020-03-01 00:01:38    414\n",
              "2020-03-01 00:01:39    345\n",
              "Freq: S, Length: 100, dtype: int64"
            ]
          },
          "metadata": {},
          "execution_count": 110
        }
      ]
    },
    {
      "cell_type": "code",
      "metadata": {
        "colab": {
          "base_uri": "https://localhost:8080/"
        },
        "id": "dRdLSzYmv3fv",
        "outputId": "648e3c06-495f-4286-f193-7bd8e1923caa"
      },
      "source": [
        "ps.to_timestamp()"
      ],
      "execution_count": 111,
      "outputs": [
        {
          "output_type": "execute_result",
          "data": {
            "text/plain": [
              "2020-03-01 00:00:00    224\n",
              "2020-03-01 00:00:01    486\n",
              "2020-03-01 00:00:02    353\n",
              "2020-03-01 00:00:03    312\n",
              "2020-03-01 00:00:04    105\n",
              "                      ... \n",
              "2020-03-01 00:01:35      8\n",
              "2020-03-01 00:01:36    187\n",
              "2020-03-01 00:01:37     63\n",
              "2020-03-01 00:01:38    414\n",
              "2020-03-01 00:01:39    345\n",
              "Freq: S, Length: 100, dtype: int64"
            ]
          },
          "metadata": {},
          "execution_count": 111
        }
      ]
    },
    {
      "cell_type": "code",
      "metadata": {
        "colab": {
          "base_uri": "https://localhost:8080/"
        },
        "id": "_-4_DENev6wn",
        "outputId": "70758a12-8100-4374-988c-c6c010d52c1a"
      },
      "source": [
        "ps"
      ],
      "execution_count": 112,
      "outputs": [
        {
          "output_type": "execute_result",
          "data": {
            "text/plain": [
              "2020-03-01 00:00:00    224\n",
              "2020-03-01 00:00:01    486\n",
              "2020-03-01 00:00:02    353\n",
              "2020-03-01 00:00:03    312\n",
              "2020-03-01 00:00:04    105\n",
              "                      ... \n",
              "2020-03-01 00:01:35      8\n",
              "2020-03-01 00:01:36    187\n",
              "2020-03-01 00:01:37     63\n",
              "2020-03-01 00:01:38    414\n",
              "2020-03-01 00:01:39    345\n",
              "Freq: S, Length: 100, dtype: int64"
            ]
          },
          "metadata": {},
          "execution_count": 112
        }
      ]
    },
    {
      "cell_type": "code",
      "metadata": {
        "id": "QpAGEPnMv7dd"
      },
      "source": [
        "import matplotlib.pyplot as plt\n"
      ],
      "execution_count": 113,
      "outputs": []
    },
    {
      "cell_type": "code",
      "metadata": {
        "colab": {
          "base_uri": "https://localhost:8080/",
          "height": 332
        },
        "id": "r1TUR8DpxGyZ",
        "outputId": "0d94ba63-cc7f-465e-bdae-ad7daba33d8e"
      },
      "source": [
        "plt.plot(df)"
      ],
      "execution_count": 115,
      "outputs": [
        {
          "output_type": "execute_result",
          "data": {
            "text/plain": [
              "[<matplotlib.lines.Line2D at 0x7fe8c211eb10>,\n",
              " <matplotlib.lines.Line2D at 0x7fe8c211ed10>,\n",
              " <matplotlib.lines.Line2D at 0x7fe8c211eed0>,\n",
              " <matplotlib.lines.Line2D at 0x7fe8c21290d0>]"
            ]
          },
          "metadata": {},
          "execution_count": 115
        },
        {
          "output_type": "display_data",
          "data": {
            "image/png": "[encoded data removed]",
            "text/plain": [
              "<Figure size 432x288 with 1 Axes>"
            ]
          },
          "metadata": {
            "needs_background": "light"
          }
        }
      ]
    },
    {
      "cell_type": "code",
      "metadata": {
        "id": "flHaG3SdxO4q"
      },
      "source": [
        "ts = pd.Series(np.random.randn(450), index = pd.date_range('1/2/2020', periods=450))\n"
      ],
      "execution_count": 119,
      "outputs": []
    },
    {
      "cell_type": "code",
      "metadata": {
        "id": "3LLMeQLQxmtv"
      },
      "source": [
        "ts = ts.cumsum()"
      ],
      "execution_count": 120,
      "outputs": []
    },
    {
      "cell_type": "code",
      "metadata": {
        "colab": {
          "base_uri": "https://localhost:8080/"
        },
        "id": "apgc9A6wxxlT",
        "outputId": "f03f0ac4-b179-4d3e-eb05-32659c048b39"
      },
      "source": [
        "ts"
      ],
      "execution_count": 121,
      "outputs": [
        {
          "output_type": "execute_result",
          "data": {
            "text/plain": [
              "2020-01-02    1.107286\n",
              "2020-01-03    0.799088\n",
              "2020-01-04    1.103024\n",
              "2020-01-05    0.259241\n",
              "2020-01-06   -0.627490\n",
              "                ...   \n",
              "2021-03-22    2.368647\n",
              "2021-03-23    1.394699\n",
              "2021-03-24    0.681063\n",
              "2021-03-25   -0.545863\n",
              "2021-03-26   -0.087384\n",
              "Freq: D, Length: 450, dtype: float64"
            ]
          },
          "metadata": {},
          "execution_count": 121
        }
      ]
    },
    {
      "cell_type": "code",
      "metadata": {
        "colab": {
          "base_uri": "https://localhost:8080/",
          "height": 285
        },
        "id": "U6q5XNb-xyX_",
        "outputId": "309456a5-8a8e-40bb-ff68-a7c8ec66365d"
      },
      "source": [
        "plt.plot(ts)"
      ],
      "execution_count": 122,
      "outputs": [
        {
          "output_type": "execute_result",
          "data": {
            "text/plain": [
              "[<matplotlib.lines.Line2D at 0x7fe8c2fd9990>]"
            ]
          },
          "metadata": {},
          "execution_count": 122
        },
        {
          "output_type": "display_data",
          "data": {
            "image/png": "[encoded data removed]",
            "text/plain": [
              "<Figure size 432x288 with 1 Axes>"
            ]
          },
          "metadata": {
            "needs_background": "light"
          }
        }
      ]
    },
    {
      "cell_type": "code",
      "metadata": {
        "id": "LZYFViw4x06D"
      },
      "source": [
        ""
      ],
      "execution_count": null,
      "outputs": []
    }
  ]
}